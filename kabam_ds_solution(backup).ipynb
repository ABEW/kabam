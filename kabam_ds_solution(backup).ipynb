{
 "cells": [
  {
   "cell_type": "markdown",
   "id": "bbf2afa9",
   "metadata": {},
   "source": [
    "There is an extra column called index\n",
    "\n",
    "keep in mind we are doing liftup analysis\n",
    "\n",
    "ONLY SINGLE ENTRY PER USER???\n",
    "\n",
    "variance analysis, anova, pearson correlation\n",
    "\n",
    "decision trees for feature importance\n",
    "\n",
    "can straight up train a model with all the features and working through the batches then we can do ablation studies or feature importance analysis \n",
    "\n",
    "remove the least importatnt features and retrain the model to get the final results\n",
    "\n",
    "use liftup analysis as metric to determine the performance of our model\n",
    "\n",
    "users.total_spend is the label and item that we need to find a correlation for \n",
    "\n",
    "##### Features ---- 27\n",
    "users   - 6\n",
    "actions - 9\n",
    "devices - 12\n",
    "\n",
    "### size of users same as devices -- maybe they changed devices??\n",
    "\n",
    "#### Could I possibly use reservoir sampling of size 1000 to determine correlation among features as well as label"
   ]
  },
  {
   "cell_type": "code",
   "execution_count": 1,
   "id": "88397b33",
   "metadata": {},
   "outputs": [
    {
     "name": "stderr",
     "output_type": "stream",
     "text": [
      "WARNING:root:'PYARROW_IGNORE_TIMEZONE' environment variable was not set. It is required to set this environment variable to '1' in both driver and executor sides if you use pyarrow>=2.0.0. pandas-on-Spark will set it for you but it does not work if there is a Spark context already launched.\n"
     ]
    }
   ],
   "source": [
    "import os\n",
    "import subprocess\n",
    "import pyspark\n",
    "import pyspark.pandas as ps\n",
    "\n",
    "from pyspark.sql.types import StructField, StructType, IntegerType, DoubleType, StringType\n",
    "from pyspark.ml.feature import Binarizer, StringIndexer, UnivariateFeatureSelector\n",
    "from pyspark.sql.functions import col,isnan, when, count\n",
    "\n",
    "import matplotlib.pyplot as plt\n",
    "from pandas.plotting import scatter_matrix\n",
    "\n",
    "from pyspark.ml.classification import DecisionTreeClassifier\n",
    "\n",
    "from pyspark.ml.feature import VectorAssembler,VectorIndexer\n",
    "\n",
    "from pyspark.mllib.evaluation import BinaryClassificationMetrics as metric\n",
    "\n",
    "from sklearn.metrics import roc_curve, auc\n"
   ]
  },
  {
   "cell_type": "code",
   "execution_count": 2,
   "id": "3fd84ab8",
   "metadata": {},
   "outputs": [],
   "source": [
    "SQL_LITE_DRVER = \"sqlite-jdbc-3.34.0.jar\"\n",
    "\n",
    "if not os.path.exists(\"./sqlite-jdbc-3.34.0.jar\"):\n",
    "    #### TRY CATCH EXCEPTIONS HERE\n",
    "    subprocess.run([\"curl\", \n",
    "                    \"-O\", \n",
    "                    f\"https://repo1.maven.org/maven2/org/xerial/sqlite-jdbc/3.34.0/{SQL_LITE_DRVER}\"\n",
    "                   ]\n",
    "                  )\n"
   ]
  },
  {
   "cell_type": "code",
   "execution_count": 3,
   "id": "6db1830e",
   "metadata": {},
   "outputs": [
    {
     "name": "stdout",
     "output_type": "stream",
     "text": [
      "DATA IN TEXT FILE\n",
      "\n",
      "ka_actions\n",
      "\n",
      "uid_s - unique user identifier\n",
      "logins - number of logins since install\n",
      "game_stats_tutorial_complete - whether user completed tutorial\n",
      "game_stats_tutorial_complete_time - time (microseconds) to complete game tutorial\n",
      "game_stats_xp - experience points accumulated by first time interval from install\n",
      "game_stats_xp1 - experience points accumulated by second time interval from install\n",
      "game_stats_xp2 - experience points accumulated by third time interval from install\n",
      "game_stats_xp3 - experience points accumulated by fourth time interval from install\n",
      "redeemer_actions - number of 'redeemer' actions since install (Note: 'redeemer' is a type of in-game action)\n",
      "scribe_actions - number of 'scribe' actions since install (Note: 'scribe' is a type of in-game action)\n",
      "\n",
      "\n",
      "ka_devices (stored in a table called 'devices')\n",
      "\n",
      "uid_s - unique user identifier\n",
      "platform_s - installation platform\n",
      "device_mapped_s - common name for device used\n",
      "device_manufacturer_s - device manufacturer\n",
      "device_mem_i - main memory size for device\n",
      "device_gmem_i - graphical memory size for device  \n",
      "device_mem_grouping_i - grouping of the device based on memory size\n",
      "device_gmem_grouping_i - grouping of the device based on graphical memory size\n",
      "device_numcpu_i - number of cores in CPU\n",
      "device_height_i - height of the device\n",
      "device_gpu_s - chipset of the device\n",
      "device_os_s - operating system of the device\n",
      "device_model_s - model number of the device\n",
      "\n",
      "\n",
      "ka_users\n",
      "\n",
      "uid_s - unique user identifier\n",
      "lang_s - language used on user's device\n",
      "geo_s - country level location of the user\n",
      "region_s - regional level location of the user\n",
      "tz_i - time zone of the user \n",
      "local_time_join_hour - hour of the day when the player first installed \n",
      "local_time_join_dow - day of the week when the player first installed\n",
      "total_spend - total in-game spend by the user \n",
      "\n",
      "\n",
      "Device table columns\n",
      "\n",
      " - uid_s \n",
      " - platform_s \n",
      " - device_mapped_s \n",
      " - device_manufacturer_s \n",
      " - device_mem_i \n",
      " - device_gmem_i \n",
      " - device_mem_grouping_i \n",
      " - device_gmem_grouping_i \n",
      " - device_numcpu_i \n",
      " - device_height_i \n",
      " - device_gpu_s \n",
      " - device_os_s \n",
      " - device_model_s \n"
     ]
    }
   ],
   "source": [
    "# load devices table column names\n",
    "col_names = []\n",
    "txt_data = {}\n",
    "start = False\n",
    "\n",
    "print('DATA IN TEXT FILE\\n')\n",
    "_ = subprocess.run(['cat','./kabam_ds_interview/data_dictionary.txt'])\n",
    "\n",
    "with open('./kabam_ds_interview/data_dictionary.txt') as f:\n",
    "    for line in f:\n",
    "        if line.startswith('ka_devices'):\n",
    "            start = True\n",
    "        elif start and len(col_names) and len(line)==1:\n",
    "            break\n",
    "        elif start and len(line)!=1:\n",
    "            col_names.append(line.split('-')[0])\n",
    "\n",
    "print('Device table columns\\n')\n",
    "_ = [print(' - '+col) for col in col_names]\n"
   ]
  },
  {
   "cell_type": "markdown",
   "id": "42a9c9ae",
   "metadata": {},
   "source": [
    "# Load devices table to pyspark dataframe"
   ]
  },
  {
   "cell_type": "code",
   "execution_count": 4,
   "id": "bc481b22",
   "metadata": {},
   "outputs": [
    {
     "name": "stderr",
     "output_type": "stream",
     "text": [
      "WARNING: An illegal reflective access operation has occurred\n",
      "WARNING: Illegal reflective access by org.apache.spark.unsafe.Platform (file:/Users/abew/main_env/lib/python3.9/site-packages/pyspark/jars/spark-unsafe_2.12-3.2.0.jar) to constructor java.nio.DirectByteBuffer(long,int)\n",
      "WARNING: Please consider reporting this to the maintainers of org.apache.spark.unsafe.Platform\n",
      "WARNING: Use --illegal-access=warn to enable warnings of further illegal reflective access operations\n",
      "WARNING: All illegal access operations will be denied in a future release\n",
      "22/01/08 15:15:07 WARN NativeCodeLoader: Unable to load native-hadoop library for your platform... using builtin-java classes where applicable\n",
      "Using Spark's default log4j profile: org/apache/spark/log4j-defaults.properties\n",
      "Setting default log level to \"WARN\".\n",
      "To adjust logging level use sc.setLogLevel(newLevel). For SparkR, use setLogLevel(newLevel).\n"
     ]
    },
    {
     "name": "stdout",
     "output_type": "stream",
     "text": [
      "DataFrame[index: int, uid_s: int, platform_s: string, device_mapped_s: string, device_manufacturer_s: string, device_mem_i: double, device_gmem_i: double, device_mem_grouping_i: double, device_gmem_grouping_i: double, device_numcpu_i: double, device_height_i: double, device_gpu_s: string, device_os_s: string, device_model_s: string]\n"
     ]
    },
    {
     "name": "stderr",
     "output_type": "stream",
     "text": [
      "                                                                                \r"
     ]
    },
    {
     "name": "stdout",
     "output_type": "stream",
     "text": [
      "-RECORD 0--------------------------------------\n",
      " index                  | 0                    \n",
      " uid_s                  | 0                    \n",
      " platform_s             | android              \n",
      " device_mapped_s        | asus_x01ad           \n",
      " device_manufacturer_s  | asus                 \n",
      " device_mem_i           | 3575.0               \n",
      " device_gmem_i          | 1024.0               \n",
      " device_mem_grouping_i  | 3584.0               \n",
      " device_gmem_grouping_i | 1024.0               \n",
      " device_numcpu_i        | 8.0                  \n",
      " device_height_i        | 720.0                \n",
      " device_gpu_s           | adreno (tm) 506      \n",
      " device_os_s            | android os 9 / ap... \n",
      " device_model_s         | asus_x01ad           \n",
      "-RECORD 1--------------------------------------\n",
      " index                  | 1                    \n",
      " uid_s                  | 1                    \n",
      " platform_s             | android              \n",
      " device_mapped_s        | moto g (5)           \n",
      " device_manufacturer_s  | motorola             \n",
      " device_mem_i           | 1867.0               \n",
      " device_gmem_i          | 512.0                \n",
      " device_mem_grouping_i  | 1920.0               \n",
      " device_gmem_grouping_i | 512.0                \n",
      " device_numcpu_i        | 8.0                  \n",
      " device_height_i        | 1080.0               \n",
      " device_gpu_s           | adreno (tm) 505      \n",
      " device_os_s            | android os 8.1.0 ... \n",
      " device_model_s         | moto g (5)           \n",
      "-RECORD 2--------------------------------------\n",
      " index                  | 2                    \n",
      " uid_s                  | 2                    \n",
      " platform_s             | android              \n",
      " device_mapped_s        | mi 6                 \n",
      " device_manufacturer_s  | xiaomi               \n",
      " device_mem_i           | 3726.0               \n",
      " device_gmem_i          | 1024.0               \n",
      " device_mem_grouping_i  | 3776.0               \n",
      " device_gmem_grouping_i | 1024.0               \n",
      " device_numcpu_i        | 8.0                  \n",
      " device_height_i        | 1080.0               \n",
      " device_gpu_s           | adreno (tm) 540      \n",
      " device_os_s            | android os 8.0.0 ... \n",
      " device_model_s         | mi 6                 \n",
      "-RECORD 3--------------------------------------\n",
      " index                  | 3                    \n",
      " uid_s                  | 3                    \n",
      " platform_s             | android              \n",
      " device_mapped_s        | oppo r7splus         \n",
      " device_manufacturer_s  | oppo                 \n",
      " device_mem_i           | 3629.0               \n",
      " device_gmem_i          | 1024.0               \n",
      " device_mem_grouping_i  | 3648.0               \n",
      " device_gmem_grouping_i | 1024.0               \n",
      " device_numcpu_i        | 8.0                  \n",
      " device_height_i        | 1080.0               \n",
      " device_gpu_s           | adreno (tm) 405      \n",
      " device_os_s            | android os 5.1.1 ... \n",
      " device_model_s         | oppo r7splus         \n",
      "-RECORD 4--------------------------------------\n",
      " index                  | 4                    \n",
      " uid_s                  | 4                    \n",
      " platform_s             | android              \n",
      " device_mapped_s        | cph1803              \n",
      " device_manufacturer_s  | oppo                 \n",
      " device_mem_i           | 2816.0               \n",
      " device_gmem_i          | 1024.0               \n",
      " device_mem_grouping_i  | 2816.0               \n",
      " device_gmem_grouping_i | 1024.0               \n",
      " device_numcpu_i        | 8.0                  \n",
      " device_height_i        | 720.0                \n",
      " device_gpu_s           | adreno (tm) 506      \n",
      " device_os_s            | android os 8.1.0 ... \n",
      " device_model_s         | cph1803              \n",
      "only showing top 5 rows\n",
      "\n"
     ]
    }
   ],
   "source": [
    "if 'devices' not in locals().keys():\n",
    "    (pyspark.sql.SparkSession.builder\n",
    "    .master(\"local[8]\")\n",
    "    .appName(\"SQLite JDBC\")\n",
    "    .config(\n",
    "        \"spark.jars\",\n",
    "        \"./sqlite-jdbc-3.34.0.jar\")\n",
    "    .config(\n",
    "        \"spark.driver.extraClassPath\",\n",
    "        \"./sqlite-jdbc-3.34.0.jar\")\n",
    "    .getOrCreate())\n",
    "    \n",
    "    devices = ps.read_sql(\"DEVICES\", con=\"jdbc:sqlite:./kabam_ds_interview/ka_devices.db\").to_spark()\n",
    "\n",
    "print(devices)\n",
    "devices.show(5, vertical=True)\n"
   ]
  },
  {
   "cell_type": "code",
   "execution_count": 37,
   "id": "71dd0176",
   "metadata": {},
   "outputs": [
    {
     "name": "stderr",
     "output_type": "stream",
     "text": [
      "[Stage 435:>                                                        (0 + 1) / 1]\r"
     ]
    },
    {
     "name": "stdout",
     "output_type": "stream",
     "text": [
      "uid_s: 2845931\n",
      "platform_s: 2\n",
      "device_mapped_s: 18978\n",
      "device_manufacturer_s: 3030\n",
      "device_mem_i: 2444\n",
      "device_mem_grouping_i: 113\n",
      "device_gmem_grouping_i: 9\n",
      "device_numcpu_i: 13\n",
      "device_height_i: 216\n",
      "device_gpu_s: 567\n",
      "device_os_s: 75074\n",
      "device_model_s: 19085\n"
     ]
    },
    {
     "name": "stderr",
     "output_type": "stream",
     "text": [
      "\r",
      "                                                                                \r"
     ]
    }
   ],
   "source": [
    "distinct_device_vals = dict()\n",
    "for col in devices.columns:\n",
    "    distinct_device_vals[col] = devices.groupby(col).count().count()\n",
    "\n",
    "_ = [print(f\"{val}: {cnt}\") for val,cnt in distinct_device_vals.items()]"
   ]
  },
  {
   "cell_type": "code",
   "execution_count": 6,
   "id": "ae9477e7",
   "metadata": {},
   "outputs": [
    {
     "name": "stderr",
     "output_type": "stream",
     "text": [
      "                                                                                \r"
     ]
    },
    {
     "name": "stdout",
     "output_type": "stream",
     "text": [
      "+----------------------+-------+\n",
      "|device_gmem_grouping_i|  count|\n",
      "+----------------------+-------+\n",
      "|                 128.0|  22975|\n",
      "|                1024.0|1237281|\n",
      "|                  null|      1|\n",
      "|                4096.0|   1018|\n",
      "|               16384.0|      1|\n",
      "|              262144.0|      2|\n",
      "|                 256.0| 417006|\n",
      "|                2048.0| 227094|\n",
      "|                 512.0| 940553|\n",
      "+----------------------+-------+\n",
      "\n"
     ]
    },
    {
     "name": "stderr",
     "output_type": "stream",
     "text": [
      "\r",
      "[Stage 88:>                                                         (0 + 1) / 1]\r"
     ]
    },
    {
     "name": "stdout",
     "output_type": "stream",
     "text": [
      "+-------------+-------+\n",
      "|device_gmem_i|  count|\n",
      "+-------------+-------+\n",
      "|        128.0|  22975|\n",
      "|       1024.0|1237281|\n",
      "|         null|      1|\n",
      "|       4096.0|   1018|\n",
      "|      16384.0|      1|\n",
      "|     262144.0|      2|\n",
      "|        256.0| 417006|\n",
      "|       2048.0| 227094|\n",
      "|        512.0| 940553|\n",
      "+-------------+-------+\n",
      "\n"
     ]
    },
    {
     "name": "stderr",
     "output_type": "stream",
     "text": [
      "\r",
      "                                                                                \r"
     ]
    }
   ],
   "source": [
    "devices.groupby('device_gmem_grouping_i').count().show(9)\n",
    "devices.groupby('device_gmem_i').count().show(9)"
   ]
  },
  {
   "cell_type": "code",
   "execution_count": 7,
   "id": "13030f4d",
   "metadata": {},
   "outputs": [],
   "source": [
    "devices = devices.drop('index').drop('device_gmem_i')"
   ]
  },
  {
   "cell_type": "markdown",
   "id": "d1796693",
   "metadata": {},
   "source": [
    "# Load the user actions table to spark dataframe"
   ]
  },
  {
   "cell_type": "code",
   "execution_count": 8,
   "id": "6c3abf94",
   "metadata": {},
   "outputs": [
    {
     "name": "stderr",
     "output_type": "stream",
     "text": [
      "                                                                                \r"
     ]
    },
    {
     "name": "stdout",
     "output_type": "stream",
     "text": [
      "DataFrame[uid_s: bigint, logins: double, game_stats_tutorial_complete: double, game_stats_tutorial_complete_time: double, game_stats_xp: double, game_stats_xp1: double, game_stats_xp2: double, game_stats_xp3: double, redeemer_actions: double, scribe_actions: double]\n",
      "-RECORD 0-----------------------------------\n",
      " uid_s                             | 0      \n",
      " logins                            | 7.0    \n",
      " game_stats_tutorial_complete      | 1.0    \n",
      " game_stats_tutorial_complete_time | 4.7E8  \n",
      " game_stats_xp                     | 1693.0 \n",
      " game_stats_xp1                    | 592.0  \n",
      " game_stats_xp2                    | 0.0    \n",
      " game_stats_xp3                    | 429.0  \n",
      " redeemer_actions                  | 446.0  \n",
      " scribe_actions                    | 364.0  \n",
      "-RECORD 1-----------------------------------\n",
      " uid_s                             | 1      \n",
      " logins                            | 2.0    \n",
      " game_stats_tutorial_complete      | 1.0    \n",
      " game_stats_tutorial_complete_time | 6.12E8 \n",
      " game_stats_xp                     | 197.0  \n",
      " game_stats_xp1                    | 197.0  \n",
      " game_stats_xp2                    | 0.0    \n",
      " game_stats_xp3                    | 0.0    \n",
      " redeemer_actions                  | 60.0   \n",
      " scribe_actions                    | 125.0  \n",
      "only showing top 2 rows\n",
      "\n"
     ]
    }
   ],
   "source": [
    "spark = (pyspark.sql.SparkSession.builder\n",
    "        .master(\"local[8]\")\n",
    "        .appName(\"user_action_loader\")\n",
    "        .config(\"spark.driver.memory\", \"10g\")\n",
    "        .getOrCreate())\n",
    "\n",
    "if 'actions' not in locals().keys():\n",
    "    actions = spark.read.parquet(\"./kabam_ds_interview/ka_actions.parquet\")\n",
    "\n",
    "    # Check that there is only one instance per user\n",
    "    assert (actions.select('uid_s').distinct().count() == actions.count())\n",
    "\n",
    "print(actions)\n",
    "actions.show(2, vertical=True)"
   ]
  },
  {
   "cell_type": "code",
   "execution_count": 38,
   "id": "1d0b5a47",
   "metadata": {},
   "outputs": [
    {
     "name": "stderr",
     "output_type": "stream",
     "text": [
      "                                                                                \r"
     ]
    },
    {
     "name": "stdout",
     "output_type": "stream",
     "text": [
      "uid_s: 2845931\n",
      "logins: 199\n",
      "game_stats_tutorial_complete: 3\n",
      "game_stats_tutorial_complete_time: 27948\n",
      "game_stats_xp: 22260\n",
      "game_stats_xp1: 5594\n",
      "game_stats_xp2: 7897\n",
      "game_stats_xp3: 7836\n",
      "redeemer_actions: 3747\n",
      "scribe_actions: 1074\n"
     ]
    }
   ],
   "source": [
    "distinct_action_vals = dict()\n",
    "for col in actions.columns:\n",
    "    distinct_action_vals[col] = actions.groupby(col).count().count()\n",
    "\n",
    "_ = [print(f\"{val}: {cnt}\") for val,cnt in distinct_action_vals.items()]"
   ]
  },
  {
   "cell_type": "markdown",
   "id": "85db782c",
   "metadata": {},
   "source": [
    "# Load users actions table to spark dataframe"
   ]
  },
  {
   "cell_type": "code",
   "execution_count": 10,
   "id": "c2c8f8fb",
   "metadata": {},
   "outputs": [
    {
     "name": "stderr",
     "output_type": "stream",
     "text": [
      "                                                                                \r"
     ]
    },
    {
     "name": "stdout",
     "output_type": "stream",
     "text": [
      "DataFrame[uid_s: int, lang_s: string, geo_s: string, region_s: string, tz_i: int, local_time_join_hour: int, local_time_join_dow: int, total_spend: double]\n",
      "+-----+------+-----+--------+------+--------------------+-------------------+-----------+\n",
      "|uid_s|lang_s|geo_s|region_s|  tz_i|local_time_join_hour|local_time_join_dow|total_spend|\n",
      "+-----+------+-----+--------+------+--------------------+-------------------+-----------+\n",
      "|    0|    EN|   MY|    asia| 28800|                  14|                  3|        0.0|\n",
      "|    1|    ES|   MX|americas|-18000|                  14|                  1|        0.0|\n",
      "|    2| ZH-CN|   CN|    asia| 28800|                   2|                  3|        0.0|\n",
      "|    3| ZH-CN|   CN|    asia| 28800|                   8|                  6|        0.0|\n",
      "|    4|    EN|   IN|    asia| 19800|                  19|                  6|        0.0|\n",
      "|    5|    EN|   ID|    asia| 25200|                  11|                  6|        0.0|\n",
      "|    6|    EN|   IN|    asia| 19800|                  23|                  2|        0.0|\n",
      "|    7| ZH-CN|   CN|    asia| 28800|                  22|                  2|        0.0|\n",
      "|    8| ZH-CN|   CN|    asia| 28800|                  16|                  6|        0.0|\n",
      "|    9|    EN|   IN|    asia| 19800|                   6|                  6|        0.0|\n",
      "+-----+------+-----+--------+------+--------------------+-------------------+-----------+\n",
      "only showing top 10 rows\n",
      "\n"
     ]
    }
   ],
   "source": [
    "if 'users' not in locals().keys():\n",
    "    schema = StructType([\n",
    "        StructField(\"uid_s\", IntegerType()),\n",
    "        StructField(\"lang_s\", StringType()),\n",
    "        StructField(\"geo_s\", StringType()),\n",
    "        StructField(\"region_s\", StringType()),\n",
    "        StructField(\"tz_i\", IntegerType()),\n",
    "        StructField(\"local_time_join_hour\", IntegerType()),\n",
    "        StructField(\"local_time_join_dow\", IntegerType()),\n",
    "        StructField(\"total_spend\", DoubleType()),\n",
    "\n",
    "    ])\n",
    "    users = spark.read.csv(\"./kabam_ds_interview/ka_users.csv\", header=True, schema=schema)\n",
    "\n",
    "    assert (users.select('uid_s').distinct().count() == users.count())\n",
    "\n",
    "print(users)\n",
    "users.show(10)"
   ]
  },
  {
   "cell_type": "code",
   "execution_count": 39,
   "id": "299d64c4",
   "metadata": {},
   "outputs": [
    {
     "name": "stderr",
     "output_type": "stream",
     "text": [
      "[Stage 543:==============>                                          (2 + 6) / 8]\r"
     ]
    },
    {
     "name": "stdout",
     "output_type": "stream",
     "text": [
      "uid_s: 2845931\n",
      "lang_s: 17\n",
      "geo_s: 229\n",
      "region_s: 6\n",
      "tz_i: 34\n",
      "local_time_join_hour: 24\n",
      "local_time_join_dow: 7\n",
      "total_spend: 79\n"
     ]
    },
    {
     "name": "stderr",
     "output_type": "stream",
     "text": [
      "\r",
      "                                                                                \r"
     ]
    }
   ],
   "source": [
    "distinct_user_vals = dict()\n",
    "for col in users.columns:\n",
    "    distinct_user_vals[col] = users.groupby(col).count().count()\n",
    "\n",
    "_ = [print(f\"{val}: {cnt}\") for val,cnt in distinct_user_vals.items()]"
   ]
  },
  {
   "cell_type": "code",
   "execution_count": 12,
   "id": "58c49ebf",
   "metadata": {},
   "outputs": [
    {
     "name": "stderr",
     "output_type": "stream",
     "text": [
      "[Stage 221:=======>                                                 (1 + 7) / 8]\r"
     ]
    },
    {
     "name": "stdout",
     "output_type": "stream",
     "text": [
      "+-------+------------------+\n",
      "|summary|       total_spend|\n",
      "+-------+------------------+\n",
      "|  count|           2845931|\n",
      "|   mean|1.2153562401899414|\n",
      "| stddev|13.860695095658928|\n",
      "|    min|               0.0|\n",
      "|    max|             450.0|\n",
      "+-------+------------------+\n",
      "\n"
     ]
    },
    {
     "name": "stderr",
     "output_type": "stream",
     "text": [
      "\r",
      "                                                                                \r"
     ]
    }
   ],
   "source": [
    "users.select('total_spend').describe().show()"
   ]
  },
  {
   "cell_type": "code",
   "execution_count": 13,
   "id": "e3c71f05",
   "metadata": {},
   "outputs": [
    {
     "name": "stderr",
     "output_type": "stream",
     "text": [
      "[Stage 229:=================================================>       (7 + 1) / 8]\r"
     ]
    },
    {
     "name": "stdout",
     "output_type": "stream",
     "text": [
      "Final row count: 2845931\n",
      "\n",
      "Final col count: 28\n",
      "\n",
      "DataFrame[uid_s: int, lang_s: string, geo_s: string, region_s: string, tz_i: int, local_time_join_hour: int, local_time_join_dow: int, total_spend: double, platform_s: string, device_mapped_s: string, device_manufacturer_s: string, device_mem_i: double, device_mem_grouping_i: double, device_gmem_grouping_i: double, device_numcpu_i: double, device_height_i: double, device_gpu_s: string, device_os_s: string, device_model_s: string, logins: double, game_stats_tutorial_complete: double, game_stats_tutorial_complete_time: double, game_stats_xp: double, game_stats_xp1: double, game_stats_xp2: double, game_stats_xp3: double, redeemer_actions: double, scribe_actions: double]\n"
     ]
    },
    {
     "name": "stderr",
     "output_type": "stream",
     "text": [
      "\r",
      "                                                                                \r"
     ]
    }
   ],
   "source": [
    "user_device = users.join(devices, on=['uid_s'], how='left')\n",
    "user_device_action = user_device.join(actions, on=['uid_s'], how='left')\n",
    "\n",
    "print(f\"Final row count: {user_device_action.count()}\\n\")\n",
    "print(f\"Final col count: {len(user_device_action.columns)}\\n\")\n",
    "\n",
    "print(user_device_action)"
   ]
  },
  {
   "cell_type": "markdown",
   "id": "ebd82909",
   "metadata": {},
   "source": [
    "### Binarize the total spend and create label (0,1) for (no money spent, money spent)"
   ]
  },
  {
   "cell_type": "code",
   "execution_count": 14,
   "id": "3143fc23",
   "metadata": {},
   "outputs": [
    {
     "data": {
      "text/plain": [
       "DataFrame[uid_s: int, lang_s: string, geo_s: string, region_s: string, tz_i: int, local_time_join_hour: int, local_time_join_dow: int, platform_s: string, device_mapped_s: string, device_manufacturer_s: string, device_mem_i: double, device_mem_grouping_i: double, device_gmem_grouping_i: double, device_numcpu_i: double, device_height_i: double, device_gpu_s: string, device_os_s: string, device_model_s: string, label: double]"
      ]
     },
     "execution_count": 14,
     "metadata": {},
     "output_type": "execute_result"
    }
   ],
   "source": [
    "binarizer = Binarizer(threshold=0.0, inputCol=\"total_spend\", outputCol=\"label\")\n",
    "binarizedDF = binarizer.transform(user_device)\n",
    "binarizedDF = binarizedDF.drop(\"total_spend\")\n",
    "\n",
    "binarizedDF"
   ]
  },
  {
   "cell_type": "code",
   "execution_count": 31,
   "id": "29c0e949",
   "metadata": {},
   "outputs": [
    {
     "name": "stderr",
     "output_type": "stream",
     "text": [
      "[Stage 283:==================================================>      (8 + 1) / 9]\r"
     ]
    },
    {
     "name": "stdout",
     "output_type": "stream",
     "text": [
      "-RECORD 0---------------------\n",
      " uid_s                  | 0   \n",
      " lang_s                 | 0   \n",
      " geo_s                  | 125 \n",
      " region_s               | 0   \n",
      " tz_i                   | 0   \n",
      " local_time_join_hour   | 0   \n",
      " local_time_join_dow    | 0   \n",
      " platform_s             | 0   \n",
      " device_mapped_s        | 5   \n",
      " device_manufacturer_s  | 5   \n",
      " device_mem_i           | 0   \n",
      " device_mem_grouping_i  | 0   \n",
      " device_gmem_grouping_i | 0   \n",
      " device_numcpu_i        | 0   \n",
      " device_height_i        | 0   \n",
      " device_gpu_s           | 0   \n",
      " device_os_s            | 0   \n",
      " device_model_s         | 5   \n",
      " label                  | 0   \n",
      "\n"
     ]
    },
    {
     "name": "stderr",
     "output_type": "stream",
     "text": [
      "\r",
      "                                                                                \r"
     ]
    }
   ],
   "source": [
    "# df.select([count(when(isnan(c) | col(c).isNull(), c)).alias(c) for c in df_Columns]\n",
    "#    ).show()\n",
    "\n",
    "# check number of nan values in each label group\n",
    "# binarizedDF.groupby('label').agg(\n",
    "#     *[\n",
    "#         count(when(isnan(c) | col(c).isNull(), c)).alias(c) for c in binarizedDF.columns\n",
    "#     ]\n",
    "# ).show()\n",
    "\n",
    "\n",
    "binarizedDF.where(binarizedDF.label==0).select(\n",
    "    [count(when(isnan(c) | col(c).isNull(), c)).alias(c) for c in binarizedDF.columns]).show(vertical=True)\n",
    "\n",
    "# instead of doing this twice I should see if there is a Null in any column after grouping by the label then I \n",
    "# would know how much of each I would lose by dropping the null rows"
   ]
  },
  {
   "cell_type": "code",
   "execution_count": 32,
   "id": "9a1349c1",
   "metadata": {},
   "outputs": [
    {
     "name": "stderr",
     "output_type": "stream",
     "text": [
      "[Stage 292:============>                                            (2 + 7) / 9]\r"
     ]
    },
    {
     "name": "stdout",
     "output_type": "stream",
     "text": [
      "-RECORD 0---------------------\n",
      " uid_s                  | 0   \n",
      " lang_s                 | 0   \n",
      " geo_s                  | 1   \n",
      " region_s               | 0   \n",
      " tz_i                   | 0   \n",
      " local_time_join_hour   | 0   \n",
      " local_time_join_dow    | 0   \n",
      " platform_s             | 0   \n",
      " device_mapped_s        | 1   \n",
      " device_manufacturer_s  | 1   \n",
      " device_mem_i           | 1   \n",
      " device_mem_grouping_i  | 1   \n",
      " device_gmem_grouping_i | 1   \n",
      " device_numcpu_i        | 1   \n",
      " device_height_i        | 1   \n",
      " device_gpu_s           | 1   \n",
      " device_os_s            | 1   \n",
      " device_model_s         | 1   \n",
      " label                  | 0   \n",
      "\n"
     ]
    },
    {
     "name": "stderr",
     "output_type": "stream",
     "text": [
      "\r",
      "                                                                                \r"
     ]
    }
   ],
   "source": [
    "binarizedDF.where(binarizedDF.label==1).select(\n",
    "    [count(when(isnan(c) | col(c).isNull(), c)).alias(c) for c in binarizedDF.columns]).show(vertical=True)"
   ]
  },
  {
   "cell_type": "code",
   "execution_count": 57,
   "id": "de29f3f7",
   "metadata": {},
   "outputs": [
    {
     "data": {
      "text/plain": [
       "['uid_s',\n",
       " 'lang_s',\n",
       " 'geo_s',\n",
       " 'region_s',\n",
       " 'tz_i',\n",
       " 'local_time_join_hour',\n",
       " 'local_time_join_dow',\n",
       " 'platform_s',\n",
       " 'device_mem_i',\n",
       " 'device_mem_grouping_i',\n",
       " 'device_gmem_grouping_i',\n",
       " 'device_numcpu_i',\n",
       " 'device_height_i',\n",
       " 'device_gpu_s',\n",
       " 'label']"
      ]
     },
     "execution_count": 57,
     "metadata": {},
     "output_type": "execute_result"
    }
   ],
   "source": [
    "# if the counts are small drop every row that has a null value\n",
    "# binarizedDF = binarizedDF.dropna(\"any\")\n",
    "\n",
    "\n",
    "all_distinct_vals = dict()\n",
    "all_distinct_vals.update(distinct_user_vals)\n",
    "all_distinct_vals.update(distinct_action_vals)\n",
    "all_distinct_vals.update(distinct_device_vals)\n",
    "\n",
    "cleaned_df = binarizedDF\n",
    "col_to_drop = []\n",
    "for i,col in enumerate(cleaned_df.columns):\n",
    "    if cleaned_df.dtypes[i][1]=='string' and all_distinct_vals[col] > 1000:\n",
    "        col_to_drop.append(col)\n",
    "\n",
    "for col in col_to_drop:\n",
    "    cleaned_df = cleaned_df.drop(col)\n",
    "\n",
    "cleaned_df.columns"
   ]
  },
  {
   "cell_type": "code",
   "execution_count": 122,
   "id": "2134808f",
   "metadata": {},
   "outputs": [
    {
     "name": "stdout",
     "output_type": "stream",
     "text": [
      "The following columns will be string indexed\n",
      "['lang_s', 'geo_s', 'region_s', 'platform_s', 'device_gpu_s']\n"
     ]
    },
    {
     "name": "stderr",
     "output_type": "stream",
     "text": [
      "                                                                                \r"
     ]
    },
    {
     "data": {
      "text/plain": [
       "DataFrame[uid_s: int, lang_s: string, geo_s: string, region_s: string, tz_i: int, local_time_join_hour: int, local_time_join_dow: int, platform_s: string, device_mem_i: double, device_mem_grouping_i: double, device_gmem_grouping_i: double, device_numcpu_i: double, device_height_i: double, device_gpu_s: string, label: double, lang_s_idx: double, geo_s_idx: double, region_s_idx: double, platform_s_idx: double, device_gpu_s_idx: double]"
      ]
     },
     "execution_count": 122,
     "metadata": {},
     "output_type": "execute_result"
    }
   ],
   "source": [
    "categ_cols = [col for i,col in enumerate(cleaned_df.columns) if cleaned_df.dtypes[i][1]=='string']\n",
    "categ_indexed = [col+\"_idx\" for col in categ_cols]\n",
    "\n",
    "print(\"The following columns will be string indexed\")\n",
    "print(categ_cols)\n",
    "\n",
    "stringIndexer = StringIndexer(inputCols=categ_cols, outputCols=categ_indexed)\n",
    "indexer_model = stringIndexer.fit(binarizedDF)\n",
    "final_df = indexer_model.transform(cleaned_df)\n",
    "\n",
    "final_df"
   ]
  },
  {
   "cell_type": "code",
   "execution_count": 123,
   "id": "4dea930e",
   "metadata": {},
   "outputs": [
    {
     "name": "stdout",
     "output_type": "stream",
     "text": [
      "Num cols : 14\n",
      "\n",
      "root\n",
      " |-- tz_i: integer (nullable = true)\n",
      " |-- local_time_join_hour: integer (nullable = true)\n",
      " |-- local_time_join_dow: integer (nullable = true)\n",
      " |-- device_mem_i: double (nullable = true)\n",
      " |-- device_mem_grouping_i: double (nullable = true)\n",
      " |-- device_gmem_grouping_i: double (nullable = true)\n",
      " |-- device_numcpu_i: double (nullable = true)\n",
      " |-- device_height_i: double (nullable = true)\n",
      " |-- label: double (nullable = true)\n",
      " |-- lang_s_idx: double (nullable = false)\n",
      " |-- geo_s_idx: double (nullable = false)\n",
      " |-- region_s_idx: double (nullable = false)\n",
      " |-- platform_s_idx: double (nullable = false)\n",
      " |-- device_gpu_s_idx: double (nullable = false)\n",
      "\n"
     ]
    }
   ],
   "source": [
    "other_drops = ['uid_s'] # 'geo_s_idx', \n",
    "\n",
    "for drop_col in categ_cols+other_drops:\n",
    "    final_df = final_df.drop(drop_col)\n",
    "\n",
    "print(f\"Num cols : {len(final_df.columns)}\\n\")\n",
    "final_df.printSchema()"
   ]
  },
  {
   "cell_type": "code",
   "execution_count": 124,
   "id": "3c42a978",
   "metadata": {},
   "outputs": [
    {
     "data": {
      "text/plain": [
       "OneHotEncoder_ae56a8ec219b"
      ]
     },
     "execution_count": 124,
     "metadata": {},
     "output_type": "execute_result"
    }
   ],
   "source": [
    "# Do one-hot-encoding of categorical variables\n",
    "from pyspark.ml.feature import OneHotEncoder\n",
    "\n",
    "cat_one_hot_in = [col for col in categ_indexed if  col in final_df.columns]\n",
    "cat_one_hot_out = [col+'_hot' for col in cat_one_hot_in]\n",
    "\n",
    "ohe = OneHotEncoder()\n",
    "ohe.setInputCols(cat_one_hot_in)\n",
    "ohe.setOutputCols(cat_one_hot_out)"
   ]
  },
  {
   "cell_type": "code",
   "execution_count": 125,
   "id": "40ac9385",
   "metadata": {},
   "outputs": [
    {
     "name": "stderr",
     "output_type": "stream",
     "text": [
      "[Stage 634:>                                                        (0 + 1) / 1]\r"
     ]
    },
    {
     "name": "stdout",
     "output_type": "stream",
     "text": [
      "-RECORD 0----------------------------------\n",
      " tz_i                   | 28800            \n",
      " local_time_join_hour   | 7                \n",
      " local_time_join_dow    | 6                \n",
      " device_mem_i           | 5724.0           \n",
      " device_mem_grouping_i  | 5760.0           \n",
      " device_gmem_grouping_i | 2048.0           \n",
      " device_numcpu_i        | 8.0              \n",
      " device_height_i        | 1080.0           \n",
      " label                  | 0.0              \n",
      " lang_s_idx             | 1.0              \n",
      " geo_s_idx              | 0.0              \n",
      " region_s_idx           | 0.0              \n",
      " platform_s_idx         | 0.0              \n",
      " device_gpu_s_idx       | 24.0             \n",
      " lang_s_idx_hot         | (16,[1],[1.0])   \n",
      " geo_s_idx_hot          | (227,[0],[1.0])  \n",
      " region_s_idx_hot       | (5,[0],[1.0])    \n",
      " platform_s_idx_hot     | (1,[0],[1.0])    \n",
      " device_gpu_s_idx_hot   | (564,[24],[1.0]) \n",
      "only showing top 1 row\n",
      "\n"
     ]
    },
    {
     "name": "stderr",
     "output_type": "stream",
     "text": [
      "\r",
      "                                                                                \r"
     ]
    }
   ],
   "source": [
    "ohe_model = ohe.fit(final_df)\n",
    "\n",
    "final_df_2 = ohe_model.transform(final_df)\n",
    "final_df_2.show(1, vertical=True)"
   ]
  },
  {
   "cell_type": "code",
   "execution_count": 126,
   "id": "fef79759",
   "metadata": {},
   "outputs": [
    {
     "name": "stdout",
     "output_type": "stream",
     "text": [
      "root\n",
      " |-- tz_i: integer (nullable = true)\n",
      " |-- local_time_join_hour: integer (nullable = true)\n",
      " |-- local_time_join_dow: integer (nullable = true)\n",
      " |-- device_mem_i: double (nullable = true)\n",
      " |-- device_mem_grouping_i: double (nullable = true)\n",
      " |-- device_gmem_grouping_i: double (nullable = true)\n",
      " |-- device_numcpu_i: double (nullable = true)\n",
      " |-- device_height_i: double (nullable = true)\n",
      " |-- label: double (nullable = true)\n",
      " |-- lang_s_idx_hot: vector (nullable = true)\n",
      " |-- geo_s_idx_hot: vector (nullable = true)\n",
      " |-- region_s_idx_hot: vector (nullable = true)\n",
      " |-- platform_s_idx_hot: vector (nullable = true)\n",
      " |-- device_gpu_s_idx_hot: vector (nullable = true)\n",
      "\n"
     ]
    }
   ],
   "source": [
    "for col in cat_one_hot_in:\n",
    "    final_df_2 = final_df_2.drop(col)\n",
    "\n",
    "final_df_2.printSchema()"
   ]
  },
  {
   "cell_type": "code",
   "execution_count": 127,
   "id": "14b18dd7",
   "metadata": {},
   "outputs": [
    {
     "name": "stdout",
     "output_type": "stream",
     "text": [
      "root\n",
      " |-- tz_i: integer (nullable = true)\n",
      " |-- local_time_join_hour: integer (nullable = true)\n",
      " |-- local_time_join_dow: integer (nullable = true)\n",
      " |-- device_mem_i: double (nullable = true)\n",
      " |-- device_mem_grouping_i: double (nullable = true)\n",
      " |-- device_gmem_grouping_i: double (nullable = true)\n",
      " |-- device_numcpu_i: double (nullable = true)\n",
      " |-- device_height_i: double (nullable = true)\n",
      " |-- label: double (nullable = true)\n",
      " |-- lang_s_idx_hot: vector (nullable = true)\n",
      " |-- geo_s_idx_hot: vector (nullable = true)\n",
      " |-- region_s_idx_hot: vector (nullable = true)\n",
      " |-- platform_s_idx_hot: vector (nullable = true)\n",
      " |-- device_gpu_s_idx_hot: vector (nullable = true)\n",
      " |-- features: vector (nullable = true)\n",
      "\n"
     ]
    }
   ],
   "source": [
    "assembler = VectorAssembler(inputCols = final_df_2.drop('label').columns, outputCol = \"features\")\n",
    "assembled = assembler.transform(final_df_2)\n",
    "\n",
    "assembled.printSchema()"
   ]
  },
  {
   "cell_type": "code",
   "execution_count": 128,
   "id": "7a08b83a",
   "metadata": {},
   "outputs": [],
   "source": [
    "# selector = UnivariateFeatureSelector(outputCol=\"selectedFeatures\")\n",
    "# selector.setFeatureType(\"categorical\").setLabelType(\"categorical\").setSelectionThreshold(5)\n",
    "\n",
    "# model = selector.fit(assembled)\n",
    "\n",
    "# model.setFeaturesCol(\"features\")\n",
    "# model.transform(assembled.drop('label')).head().selectedFeatures\n",
    "\n",
    "# top_features = [assembled.drop('label').columns[i] for i in model.selectedFeatures]\n",
    "# print(top_features)"
   ]
  },
  {
   "cell_type": "markdown",
   "id": "ed673f4c",
   "metadata": {},
   "source": [
    "## Fix dataset imbalance"
   ]
  },
  {
   "cell_type": "code",
   "execution_count": 129,
   "id": "cd1518cd",
   "metadata": {},
   "outputs": [
    {
     "name": "stderr",
     "output_type": "stream",
     "text": [
      "22/01/08 19:14:29 WARN RowBasedKeyValueBatch: Calling spill() on RowBasedKeyValueBatch. Will not spill but return 0.\n",
      "22/01/08 19:14:29 WARN RowBasedKeyValueBatch: Calling spill() on RowBasedKeyValueBatch. Will not spill but return 0.\n",
      "22/01/08 19:14:29 WARN RowBasedKeyValueBatch: Calling spill() on RowBasedKeyValueBatch. Will not spill but return 0.\n",
      "22/01/08 19:14:29 WARN RowBasedKeyValueBatch: Calling spill() on RowBasedKeyValueBatch. Will not spill but return 0.\n",
      "22/01/08 19:14:30 WARN RowBasedKeyValueBatch: Calling spill() on RowBasedKeyValueBatch. Will not spill but return 0.\n",
      "22/01/08 19:14:30 WARN RowBasedKeyValueBatch: Calling spill() on RowBasedKeyValueBatch. Will not spill but return 0.\n",
      "22/01/08 19:14:30 WARN RowBasedKeyValueBatch: Calling spill() on RowBasedKeyValueBatch. Will not spill but return 0.\n",
      "22/01/08 19:14:30 WARN RowBasedKeyValueBatch: Calling spill() on RowBasedKeyValueBatch. Will not spill but return 0.\n",
      "22/01/08 19:14:30 WARN RowBasedKeyValueBatch: Calling spill() on RowBasedKeyValueBatch. Will not spill but return 0.\n",
      "22/01/08 19:14:30 WARN RowBasedKeyValueBatch: Calling spill() on RowBasedKeyValueBatch. Will not spill but return 0.\n",
      "22/01/08 19:14:30 WARN RowBasedKeyValueBatch: Calling spill() on RowBasedKeyValueBatch. Will not spill but return 0.\n",
      "22/01/08 19:14:30 WARN RowBasedKeyValueBatch: Calling spill() on RowBasedKeyValueBatch. Will not spill but return 0.\n",
      "22/01/08 19:14:30 WARN RowBasedKeyValueBatch: Calling spill() on RowBasedKeyValueBatch. Will not spill but return 0.\n",
      "22/01/08 19:14:30 WARN RowBasedKeyValueBatch: Calling spill() on RowBasedKeyValueBatch. Will not spill but return 0.\n",
      "22/01/08 19:14:30 WARN RowBasedKeyValueBatch: Calling spill() on RowBasedKeyValueBatch. Will not spill but return 0.\n",
      "22/01/08 19:14:30 WARN RowBasedKeyValueBatch: Calling spill() on RowBasedKeyValueBatch. Will not spill but return 0.\n",
      "22/01/08 19:14:38 WARN RowBasedKeyValueBatch: Calling spill() on RowBasedKeyValueBatch. Will not spill but return 0.\n",
      "22/01/08 19:14:38 WARN RowBasedKeyValueBatch: Calling spill() on RowBasedKeyValueBatch. Will not spill but return 0.\n",
      "22/01/08 19:14:38 WARN RowBasedKeyValueBatch: Calling spill() on RowBasedKeyValueBatch. Will not spill but return 0.\n",
      "22/01/08 19:14:38 WARN RowBasedKeyValueBatch: Calling spill() on RowBasedKeyValueBatch. Will not spill but return 0.\n",
      "22/01/08 19:14:38 WARN RowBasedKeyValueBatch: Calling spill() on RowBasedKeyValueBatch. Will not spill but return 0.\n",
      "22/01/08 19:14:38 WARN RowBasedKeyValueBatch: Calling spill() on RowBasedKeyValueBatch. Will not spill but return 0.\n",
      "22/01/08 19:14:38 WARN RowBasedKeyValueBatch: Calling spill() on RowBasedKeyValueBatch. Will not spill but return 0.\n",
      "22/01/08 19:14:39 WARN RowBasedKeyValueBatch: Calling spill() on RowBasedKeyValueBatch. Will not spill but return 0.\n",
      "22/01/08 19:14:39 WARN RowBasedKeyValueBatch: Calling spill() on RowBasedKeyValueBatch. Will not spill but return 0.\n",
      "[Stage 644:================================================>      (16 + 2) / 18]\r"
     ]
    },
    {
     "name": "stdout",
     "output_type": "stream",
     "text": [
      "+-----+-----+\n",
      "|label|count|\n",
      "+-----+-----+\n",
      "|  0.0|32566|\n",
      "|  1.0|32395|\n",
      "+-----+-----+\n",
      "\n"
     ]
    },
    {
     "name": "stderr",
     "output_type": "stream",
     "text": [
      "\r",
      "[Stage 644:===================================================>   (17 + 1) / 18]\r",
      "\r",
      "                                                                                \r"
     ]
    }
   ],
   "source": [
    "# Need to calculate ratio first here\n",
    "\n",
    "majority_df = assembled.filter(assembled.label == 0)\n",
    "minority_df = assembled.filter(assembled.label == 1)\n",
    "\n",
    "# sampled_majority_df = majority_df.sample(False, 1/87)\n",
    "\n",
    "sampled_majority_df, extra_maj_df = majority_df.randomSplit([1/87, 86/87], seed=0)\n",
    "\n",
    "balanced_df = sampled_majority_df.unionAll(minority_df)\n",
    "\n",
    "balanced_df.groupby('label').count().show()"
   ]
  },
  {
   "cell_type": "code",
   "execution_count": 130,
   "id": "a841bfcb",
   "metadata": {},
   "outputs": [],
   "source": [
    "# majority_df = assembled.filter(assembled.label == 0)\n",
    "# minority_df = assembled.filter(assembled.label == 1)\n",
    "\n",
    "# sample_positive = majority_df.take(1000)\n",
    "# sample_negative = minority_df.take(1000)\n",
    "\n",
    "# sample = spark.createDataFrame(data = sample_positive).union(spark.createDataFrame(data = sample_negative))\n",
    "# sub_sample = sample.toPandas()\n",
    "\n",
    "# # plotting the scatter matrix with the features\n",
    "# plt.figure(figsize=(10,10))\n",
    "# plt.plot(sub_sample.device_mem_grouping_i, sub_sample.label,'.')\n",
    "# # scatter_matrix(\n",
    "# #     sub_sample[['label','device_mem_grouping_i']],\n",
    "# #     figsize=(10,8))\n",
    "# plt.show()"
   ]
  },
  {
   "cell_type": "markdown",
   "id": "e11ced4b",
   "metadata": {},
   "source": [
    "# Test train split"
   ]
  },
  {
   "cell_type": "code",
   "execution_count": 131,
   "id": "ef4512ce",
   "metadata": {},
   "outputs": [],
   "source": [
    "(training_data, test_data) = balanced_df.randomSplit([0.7, 0.3], seed=0)"
   ]
  },
  {
   "cell_type": "code",
   "execution_count": 132,
   "id": "b0904636",
   "metadata": {},
   "outputs": [
    {
     "name": "stderr",
     "output_type": "stream",
     "text": [
      "                                                                                \r"
     ]
    }
   ],
   "source": [
    "# test training a classifier with the special variables\n",
    "# IF THIS TRAINS FINE THEN WE CAN DO OPTIMIZATION ON GOOGLE COLAB WITH SOME HINTS ABOUT THE TOP FEATURES\n",
    "\n",
    "### WOOOOHOOOOOO\n",
    "\n",
    "tree_class = DecisionTreeClassifier(maxDepth=5, labelCol=\"label\", leafCol=\"leafId\")\n",
    "trained_model = tree_class.fit(training_data.select('features','label'))"
   ]
  },
  {
   "cell_type": "code",
   "execution_count": 133,
   "id": "a1083f31",
   "metadata": {},
   "outputs": [
    {
     "data": {
      "text/plain": [
       "SparseVector(821, {0: 0.0033, 2: 0.0005, 4: 0.6051, 7: 0.1575, 13: 0.0004, 25: 0.0549, 27: 0.1028, 64: 0.0005, 256: 0.0048, 268: 0.05, 273: 0.0006, 296: 0.0197})"
      ]
     },
     "execution_count": 133,
     "metadata": {},
     "output_type": "execute_result"
    }
   ],
   "source": [
    "important_features = trained_model.featureImportances\n",
    "important_features\n"
   ]
  },
  {
   "cell_type": "code",
   "execution_count": 134,
   "id": "eeacfee4",
   "metadata": {},
   "outputs": [
    {
     "name": "stdout",
     "output_type": "stream",
     "text": [
      "(821,[0,2,4,7,13,25,27,64,256,268,273,296],[0.0032542306945896196,0.0005339410185588615,0.6050563883129559,0.15751249341754986,0.00038562406895917804,0.05486304107551754,0.10284983729342827,0.0005437799739972093,0.004776281573776148,0.04997034671867137,0.0005610130121440138,0.019693022839851797])\n"
     ]
    }
   ],
   "source": [
    "print(important_features)"
   ]
  },
  {
   "cell_type": "code",
   "execution_count": 135,
   "id": "e00a7187",
   "metadata": {},
   "outputs": [
    {
     "name": "stdout",
     "output_type": "stream",
     "text": [
      "(4, 0.6050563883129559)\n",
      "(7, 0.15751249341754986)\n",
      "(27, 0.10284983729342827)\n",
      "(25, 0.05486304107551754)\n",
      "(268, 0.04997034671867137)\n",
      "(296, 0.019693022839851797)\n",
      "(256, 0.004776281573776148)\n",
      "(0, 0.0032542306945896196)\n",
      "(273, 0.0005610130121440138)\n",
      "(64, 0.0005437799739972093)\n",
      "(2, 0.0005339410185588615)\n",
      "(13, 0.00038562406895917804)\n"
     ]
    }
   ],
   "source": [
    "important_list = sorted([(i,prob) for i,prob in enumerate(important_features) if prob != 0],\n",
    "                        reverse=True, key = lambda x: x[1])\n",
    "_ = [print(val) for val in important_list]"
   ]
  },
  {
   "cell_type": "code",
   "execution_count": 136,
   "id": "e1b6379f",
   "metadata": {},
   "outputs": [
    {
     "name": "stderr",
     "output_type": "stream",
     "text": [
      "[Stage 688:>                                                        (0 + 1) / 1]\r"
     ]
    },
    {
     "name": "stdout",
     "output_type": "stream",
     "text": [
      "-RECORD 0--------------------------------------\n",
      " tz_i                   | -39600               \n",
      " local_time_join_hour   | 4                    \n",
      " local_time_join_dow    | 7                    \n",
      " device_mem_i           | 977.0                \n",
      " device_mem_grouping_i  | 1024.0               \n",
      " device_gmem_grouping_i | 256.0                \n",
      " device_numcpu_i        | 4.0                  \n",
      " device_height_i        | 800.0                \n",
      " label                  | 0.0                  \n",
      " lang_s_idx_hot         | (16,[0],[1.0])       \n",
      " geo_s_idx_hot          | (227,[4],[1.0])      \n",
      " region_s_idx_hot       | (5,[1],[1.0])        \n",
      " platform_s_idx_hot     | (1,[0],[1.0])        \n",
      " device_gpu_s_idx_hot   | (564,[3],[1.0])      \n",
      " features               | (821,[0,1,2,3,4,5... \n",
      "only showing top 1 row\n",
      "\n"
     ]
    },
    {
     "name": "stderr",
     "output_type": "stream",
     "text": [
      "\r",
      "                                                                                \r"
     ]
    }
   ],
   "source": [
    "training_data.show(1,vertical=True)"
   ]
  },
  {
   "cell_type": "code",
   "execution_count": 137,
   "id": "3b375899",
   "metadata": {},
   "outputs": [
    {
     "data": {
      "text/plain": [
       "{'idx': 8, 'name': 'lang_s_idx_hot_EN'}"
      ]
     },
     "execution_count": 137,
     "metadata": {},
     "output_type": "execute_result"
    }
   ],
   "source": [
    "training_data.schema[\"features\"].metadata[\"ml_attr\"]['attrs']['binary'][0]"
   ]
  },
  {
   "cell_type": "code",
   "execution_count": 138,
   "id": "b1851607",
   "metadata": {},
   "outputs": [
    {
     "name": "stdout",
     "output_type": "stream",
     "text": [
      "device_mem_grouping_i                             :\t 0.6050563883129559\n",
      "device_height_i                                   :\t 0.15751249341754986\n",
      "geo_s_idx_hot_BR                                  :\t 0.10284983729342827\n",
      "geo_s_idx_hot_CN                                  :\t 0.05486304107551754\n",
      "device_gpu_s_idx_hot_mali-g71                     :\t 0.04997034671867137\n",
      "device_gpu_s_idx_hot_powervr sgx 554              :\t 0.019693022839851797\n",
      "region_s_idx_hot_oceania                          :\t 0.004776281573776148\n",
      "tz_i                                              :\t 0.0032542306945896196\n",
      "device_gpu_s_idx_hot_apple a12 gpu                :\t 0.0005610130121440138\n",
      "geo_s_idx_hot_CZ                                  :\t 0.0005437799739972093\n",
      "local_time_join_dow                               :\t 0.0005339410185588615\n",
      "lang_s_idx_hot_RU                                 :\t 0.00038562406895917804\n"
     ]
    }
   ],
   "source": [
    "tree_priority = []\n",
    "\n",
    "ml_attrs = training_data.schema[\"features\"].metadata[\"ml_attr\"]['attrs']\n",
    "\n",
    "for i,prob in enumerate(important_features):\n",
    "    if prob > 0:\n",
    "        if i<= 8:\n",
    "            feat_name = ml_attrs['numeric'][i]['name']\n",
    "        else:\n",
    "            feat_name = ml_attrs['binary'][i-9]['name']\n",
    "\n",
    "        tree_priority.append((feat_name, prob))\n",
    "    \n",
    "tree_priority.sort(reverse=True, key = lambda x: x[1])\n",
    "\n",
    "_ = [print(f\"{items[0]:<50}:\\t {items[1]}\") for items in tree_priority]"
   ]
  },
  {
   "cell_type": "code",
   "execution_count": 139,
   "id": "dcd73edc",
   "metadata": {},
   "outputs": [],
   "source": [
    "preds = trained_model.transform(test_data)"
   ]
  },
  {
   "cell_type": "code",
   "execution_count": 140,
   "id": "304243af",
   "metadata": {},
   "outputs": [
    {
     "name": "stderr",
     "output_type": "stream",
     "text": [
      "[Stage 693:>                                                       (0 + 8) / 18]\r"
     ]
    },
    {
     "name": "stdout",
     "output_type": "stream",
     "text": [
      "[14933.913s][warning][gc,alloc] Executor task launch worker for task 4.0 in stage 693.0 (TID 1540): Retried waiting for GCLocker too often allocating 262146 words\n",
      "[14933.920s][warning][gc,alloc] Executor task launch worker for task 6.0 in stage 693.0 (TID 1542): Retried waiting for GCLocker too often allocating 262146 words\n"
     ]
    },
    {
     "name": "stderr",
     "output_type": "stream",
     "text": [
      "22/01/08 19:23:57 WARN TaskMemoryManager: Failed to allocate a page (2097152 bytes), try again.\n",
      "22/01/08 19:23:57 WARN TaskMemoryManager: Failed to allocate a page (2097152 bytes), try again.\n",
      "                                                                                \r"
     ]
    }
   ],
   "source": [
    "results = preds.select(['probability', 'label'])\n",
    " \n",
    "## prepare score-label set\n",
    "results_collect = results.collect()\n",
    "results_list = [(float(i[0][0]), 1.0-float(i[1])) for i in results_collect]"
   ]
  },
  {
   "cell_type": "code",
   "execution_count": 141,
   "id": "2ac906b0",
   "metadata": {},
   "outputs": [
    {
     "name": "stdout",
     "output_type": "stream",
     "text": [
      "[(0.9698910954516335, 1.0), (0.8024216524216524, 1.0), (0.36971843332515164, 1.0), (0.43920145190562615, 1.0), (0.8024216524216524, 1.0), (0.8024216524216524, 1.0), (0.594475138121547, 1.0), (0.8024216524216524, 1.0), (0.36971843332515164, 1.0), (0.43920145190562615, 1.0)]\n"
     ]
    },
    {
     "name": "stderr",
     "output_type": "stream",
     "text": [
      "[Stage 698:>                                                        (0 + 1) / 1]\r"
     ]
    },
    {
     "name": "stdout",
     "output_type": "stream",
     "text": [
      "+-----+\n",
      "|label|\n",
      "+-----+\n",
      "|  0.0|\n",
      "|  0.0|\n",
      "|  0.0|\n",
      "|  0.0|\n",
      "|  0.0|\n",
      "|  0.0|\n",
      "|  0.0|\n",
      "|  0.0|\n",
      "|  0.0|\n",
      "|  0.0|\n",
      "+-----+\n",
      "only showing top 10 rows\n",
      "\n"
     ]
    },
    {
     "name": "stderr",
     "output_type": "stream",
     "text": [
      "\r",
      "                                                                                \r"
     ]
    }
   ],
   "source": [
    "print(results_list[:10])\n",
    "\n",
    "test_data.select('label').show(10)"
   ]
  },
  {
   "cell_type": "code",
   "execution_count": 142,
   "id": "0978b459",
   "metadata": {},
   "outputs": [
    {
     "data": {
      "image/png": "[encoded data removed]",
      "text/plain": [
       "<Figure size 432x288 with 1 Axes>"
      ]
     },
     "metadata": {
      "needs_background": "light"
     },
     "output_type": "display_data"
    }
   ],
   "source": [
    "fpr = dict()\n",
    "tpr = dict()\n",
    "roc_auc = dict()\n",
    " \n",
    "y_test = [i[1] for i in results_list]\n",
    "y_score = [i[0] for i in results_list]\n",
    " \n",
    "fpr, tpr, _ = roc_curve(y_test, y_score)\n",
    "roc_auc = auc(fpr, tpr)\n",
    " \n",
    "%matplotlib inline\n",
    "plt.figure()\n",
    "plt.plot(fpr, tpr, label='ROC curve (area = %0.2f)' % roc_auc)\n",
    "plt.plot([0, 1], [0, 1], 'k--')\n",
    "plt.xlim([0.0, 1.0])\n",
    "plt.ylim([0.0, 1.05])\n",
    "plt.xlabel('False Positive Rate')\n",
    "plt.ylabel('True Positive Rate')\n",
    "plt.title('Receiver operating characteristic Graph')\n",
    "plt.legend(loc=\"lower right\")\n",
    "plt.show()"
   ]
  },
  {
   "cell_type": "code",
   "execution_count": null,
   "id": "ff7a9ed3",
   "metadata": {},
   "outputs": [],
   "source": []
  }
 ],
 "metadata": {
  "kernelspec": {
   "display_name": "Python 3 (ipykernel)",
   "language": "python",
   "name": "python3"
  },
  "language_info": {
   "codemirror_mode": {
    "name": "ipython",
    "version": 3
   },
   "file_extension": ".py",
   "mimetype": "text/x-python",
   "name": "python",
   "nbconvert_exporter": "python",
   "pygments_lexer": "ipython3",
   "version": "3.9.9"
  }
 },
 "nbformat": 4,
 "nbformat_minor": 5
}
