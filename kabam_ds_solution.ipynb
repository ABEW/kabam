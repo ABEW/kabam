{
 "cells": [
  {
   "cell_type": "markdown",
   "id": "ac65a2ad",
   "metadata": {},
   "source": [
    "There is an extra column called index\n",
    "\n",
    "keep in mind we are doing liftup analysis\n",
    "\n",
    "ONLY SINGLE ENTRY PER USER???\n",
    "\n",
    "variance analysis, anova, pearson correlation\n",
    "\n",
    "decision trees for feature importance\n",
    "\n",
    "can straight up train a model with all the features and working through the batches then we can do ablation studies or feature importance analysis \n",
    "\n",
    "remove the least importatnt features and retrain the model to get the final results\n",
    "\n",
    "use liftup analysis as metric to determine the performance of our model\n",
    "\n",
    "users.total_spend is the label and item that we need to find a correlation for \n",
    "\n",
    "##### Features ---- 27\n",
    "users   - 6\n",
    "actions - 9\n",
    "devices - 12\n",
    "\n",
    "### size of users same as devices -- maybe they changed devices??\n",
    "\n",
    "#### Could I possibly use reservoir sampling of size 1000 to determine correlation among features as well as label"
   ]
  },
  {
   "cell_type": "code",
   "execution_count": 1,
   "id": "553795ec",
   "metadata": {},
   "outputs": [
    {
     "name": "stderr",
     "output_type": "stream",
     "text": [
      "WARNING:root:'PYARROW_IGNORE_TIMEZONE' environment variable was not set. It is required to set this environment variable to '1' in both driver and executor sides if you use pyarrow>=2.0.0. pandas-on-Spark will set it for you but it does not work if there is a Spark context already launched.\n"
     ]
    }
   ],
   "source": [
    "import os\n",
    "import subprocess\n",
    "import pyspark\n",
    "import pyspark.pandas as ps\n",
    "\n",
    "from pyspark.sql.types import StructField, StructType, IntegerType, DoubleType, StringType\n",
    "from pyspark.ml.feature import Binarizer, StringIndexer, UnivariateFeatureSelector\n",
    "from pyspark.sql.functions import isnan, when, count\n",
    "\n",
    "from pyspark.sql.functions import col as py_col\n",
    "\n",
    "import matplotlib.pyplot as plt\n",
    "from pandas.plotting import scatter_matrix\n",
    "\n",
    "from pyspark.ml.classification import DecisionTreeClassifier\n",
    "\n",
    "from pyspark.ml.feature import VectorAssembler,VectorIndexer\n",
    "\n",
    "from pyspark.mllib.evaluation import BinaryClassificationMetrics as metric\n",
    "\n",
    "from sklearn.metrics import roc_curve, auc\n",
    "\n",
    "from imblearn.under_sampling import OneSidedSelection\n",
    "\n",
    "from pyspark.ml.feature import OneHotEncoder"
   ]
  },
  {
   "cell_type": "code",
   "execution_count": 2,
   "id": "3fd84ab8",
   "metadata": {},
   "outputs": [],
   "source": [
    "SQL_LITE_DRVER = \"sqlite-jdbc-3.34.0.jar\"\n",
    "\n",
    "if not os.path.exists(\"./sqlite-jdbc-3.34.0.jar\"):\n",
    "    #### TRY CATCH EXCEPTIONS HERE\n",
    "    subprocess.run([\"curl\", \n",
    "                    \"-O\", \n",
    "                    f\"https://repo1.maven.org/maven2/org/xerial/sqlite-jdbc/3.34.0/{SQL_LITE_DRVER}\"\n",
    "                   ]\n",
    "                  )\n"
   ]
  },
  {
   "cell_type": "code",
   "execution_count": 3,
   "id": "6db1830e",
   "metadata": {},
   "outputs": [
    {
     "name": "stdout",
     "output_type": "stream",
     "text": [
      "DATA IN TEXT FILE\n",
      "\n",
      "ka_actions\n",
      "\n",
      "uid_s - unique user identifier\n",
      "logins - number of logins since install\n",
      "game_stats_tutorial_complete - whether user completed tutorial\n",
      "game_stats_tutorial_complete_time - time (microseconds) to complete game tutorial\n",
      "game_stats_xp - experience points accumulated by first time interval from install\n",
      "game_stats_xp1 - experience points accumulated by second time interval from install\n",
      "game_stats_xp2 - experience points accumulated by third time interval from install\n",
      "game_stats_xp3 - experience points accumulated by fourth time interval from install\n",
      "redeemer_actions - number of 'redeemer' actions since install (Note: 'redeemer' is a type of in-game action)\n",
      "scribe_actions - number of 'scribe' actions since install (Note: 'scribe' is a type of in-game action)\n",
      "\n",
      "\n",
      "ka_devices (stored in a table called 'devices')\n",
      "\n",
      "uid_s - unique user identifier\n",
      "platform_s - installation platform\n",
      "device_mapped_s - common name for device used\n",
      "device_manufacturer_s - device manufacturer\n",
      "device_mem_i - main memory size for device\n",
      "device_gmem_i - graphical memory size for device  \n",
      "device_mem_grouping_i - grouping of the device based on memory size\n",
      "device_gmem_grouping_i - grouping of the device based on graphical memory size\n",
      "device_numcpu_i - number of cores in CPU\n",
      "device_height_i - height of the device\n",
      "device_gpu_s - chipset of the device\n",
      "device_os_s - operating system of the device\n",
      "device_model_s - model number of the device\n",
      "\n",
      "\n",
      "ka_users\n",
      "\n",
      "uid_s - unique user identifier\n",
      "lang_s - language used on user's device\n",
      "geo_s - country level location of the user\n",
      "region_s - regional level location of the user\n",
      "tz_i - time zone of the user \n",
      "local_time_join_hour - hour of the day when the player first installed \n",
      "local_time_join_dow - day of the week when the player first installed\n",
      "total_spend - total in-game spend by the user \n",
      "\n",
      "\n",
      "Device table columns\n",
      "\n",
      " - uid_s \n",
      " - platform_s \n",
      " - device_mapped_s \n",
      " - device_manufacturer_s \n",
      " - device_mem_i \n",
      " - device_gmem_i \n",
      " - device_mem_grouping_i \n",
      " - device_gmem_grouping_i \n",
      " - device_numcpu_i \n",
      " - device_height_i \n",
      " - device_gpu_s \n",
      " - device_os_s \n",
      " - device_model_s \n"
     ]
    }
   ],
   "source": [
    "# load devices table column names\n",
    "col_names = []\n",
    "txt_data = {}\n",
    "start = False\n",
    "\n",
    "print('DATA IN TEXT FILE\\n')\n",
    "_ = subprocess.run(['cat','./kabam_ds_interview/data_dictionary.txt'])\n",
    "\n",
    "with open('./kabam_ds_interview/data_dictionary.txt') as f:\n",
    "    for line in f:\n",
    "        if line.startswith('ka_devices'):\n",
    "            start = True\n",
    "        elif start and len(col_names) and len(line)==1:\n",
    "            break\n",
    "        elif start and len(line)!=1:\n",
    "            col_names.append(line.split('-')[0])\n",
    "\n",
    "print('Device table columns\\n')\n",
    "_ = [print(' - '+col) for col in col_names]\n"
   ]
  },
  {
   "cell_type": "markdown",
   "id": "42a9c9ae",
   "metadata": {},
   "source": [
    "# Load devices table to pyspark dataframe"
   ]
  },
  {
   "cell_type": "code",
   "execution_count": 4,
   "id": "bc481b22",
   "metadata": {},
   "outputs": [
    {
     "name": "stderr",
     "output_type": "stream",
     "text": [
      "WARNING: An illegal reflective access operation has occurred\n",
      "WARNING: Illegal reflective access by org.apache.spark.unsafe.Platform (file:/Users/abew/main_env/lib/python3.9/site-packages/pyspark/jars/spark-unsafe_2.12-3.2.0.jar) to constructor java.nio.DirectByteBuffer(long,int)\n",
      "WARNING: Please consider reporting this to the maintainers of org.apache.spark.unsafe.Platform\n",
      "WARNING: Use --illegal-access=warn to enable warnings of further illegal reflective access operations\n",
      "WARNING: All illegal access operations will be denied in a future release\n",
      "22/01/09 00:07:56 WARN NativeCodeLoader: Unable to load native-hadoop library for your platform... using builtin-java classes where applicable\n",
      "Using Spark's default log4j profile: org/apache/spark/log4j-defaults.properties\n",
      "Setting default log level to \"WARN\".\n",
      "To adjust logging level use sc.setLogLevel(newLevel). For SparkR, use setLogLevel(newLevel).\n"
     ]
    },
    {
     "name": "stdout",
     "output_type": "stream",
     "text": [
      "DataFrame[index: int, uid_s: int, platform_s: string, device_mapped_s: string, device_manufacturer_s: string, device_mem_i: double, device_gmem_i: double, device_mem_grouping_i: double, device_gmem_grouping_i: double, device_numcpu_i: double, device_height_i: double, device_gpu_s: string, device_os_s: string, device_model_s: string]\n"
     ]
    },
    {
     "name": "stderr",
     "output_type": "stream",
     "text": [
      "\r",
      "[Stage 0:>                                                          (0 + 1) / 1]\r",
      "\r",
      "                                                                                \r"
     ]
    },
    {
     "name": "stdout",
     "output_type": "stream",
     "text": [
      "-RECORD 0--------------------------------------\n",
      " index                  | 0                    \n",
      " uid_s                  | 0                    \n",
      " platform_s             | android              \n",
      " device_mapped_s        | asus_x01ad           \n",
      " device_manufacturer_s  | asus                 \n",
      " device_mem_i           | 3575.0               \n",
      " device_gmem_i          | 1024.0               \n",
      " device_mem_grouping_i  | 3584.0               \n",
      " device_gmem_grouping_i | 1024.0               \n",
      " device_numcpu_i        | 8.0                  \n",
      " device_height_i        | 720.0                \n",
      " device_gpu_s           | adreno (tm) 506      \n",
      " device_os_s            | android os 9 / ap... \n",
      " device_model_s         | asus_x01ad           \n",
      "-RECORD 1--------------------------------------\n",
      " index                  | 1                    \n",
      " uid_s                  | 1                    \n",
      " platform_s             | android              \n",
      " device_mapped_s        | moto g (5)           \n",
      " device_manufacturer_s  | motorola             \n",
      " device_mem_i           | 1867.0               \n",
      " device_gmem_i          | 512.0                \n",
      " device_mem_grouping_i  | 1920.0               \n",
      " device_gmem_grouping_i | 512.0                \n",
      " device_numcpu_i        | 8.0                  \n",
      " device_height_i        | 1080.0               \n",
      " device_gpu_s           | adreno (tm) 505      \n",
      " device_os_s            | android os 8.1.0 ... \n",
      " device_model_s         | moto g (5)           \n",
      "-RECORD 2--------------------------------------\n",
      " index                  | 2                    \n",
      " uid_s                  | 2                    \n",
      " platform_s             | android              \n",
      " device_mapped_s        | mi 6                 \n",
      " device_manufacturer_s  | xiaomi               \n",
      " device_mem_i           | 3726.0               \n",
      " device_gmem_i          | 1024.0               \n",
      " device_mem_grouping_i  | 3776.0               \n",
      " device_gmem_grouping_i | 1024.0               \n",
      " device_numcpu_i        | 8.0                  \n",
      " device_height_i        | 1080.0               \n",
      " device_gpu_s           | adreno (tm) 540      \n",
      " device_os_s            | android os 8.0.0 ... \n",
      " device_model_s         | mi 6                 \n",
      "-RECORD 3--------------------------------------\n",
      " index                  | 3                    \n",
      " uid_s                  | 3                    \n",
      " platform_s             | android              \n",
      " device_mapped_s        | oppo r7splus         \n",
      " device_manufacturer_s  | oppo                 \n",
      " device_mem_i           | 3629.0               \n",
      " device_gmem_i          | 1024.0               \n",
      " device_mem_grouping_i  | 3648.0               \n",
      " device_gmem_grouping_i | 1024.0               \n",
      " device_numcpu_i        | 8.0                  \n",
      " device_height_i        | 1080.0               \n",
      " device_gpu_s           | adreno (tm) 405      \n",
      " device_os_s            | android os 5.1.1 ... \n",
      " device_model_s         | oppo r7splus         \n",
      "-RECORD 4--------------------------------------\n",
      " index                  | 4                    \n",
      " uid_s                  | 4                    \n",
      " platform_s             | android              \n",
      " device_mapped_s        | cph1803              \n",
      " device_manufacturer_s  | oppo                 \n",
      " device_mem_i           | 2816.0               \n",
      " device_gmem_i          | 1024.0               \n",
      " device_mem_grouping_i  | 2816.0               \n",
      " device_gmem_grouping_i | 1024.0               \n",
      " device_numcpu_i        | 8.0                  \n",
      " device_height_i        | 720.0                \n",
      " device_gpu_s           | adreno (tm) 506      \n",
      " device_os_s            | android os 8.1.0 ... \n",
      " device_model_s         | cph1803              \n",
      "only showing top 5 rows\n",
      "\n"
     ]
    }
   ],
   "source": [
    "if 'devices' not in locals().keys():\n",
    "    (pyspark.sql.SparkSession.builder\n",
    "    .master(\"local[8]\")\n",
    "    .appName(\"SQLite JDBC\")\n",
    "    .config(\n",
    "        \"spark.jars\",\n",
    "        \"./sqlite-jdbc-3.34.0.jar\")\n",
    "    .config(\n",
    "        \"spark.driver.extraClassPath\",\n",
    "        \"./sqlite-jdbc-3.34.0.jar\")\n",
    "    .config(\"spark.driver.memory\", \"15g\")\n",
    "    .getOrCreate())\n",
    "    \n",
    "    devices = ps.read_sql(\"DEVICES\", con=\"jdbc:sqlite:./kabam_ds_interview/ka_devices.db\").to_spark()\n",
    "\n",
    "print(devices)\n",
    "devices.show(5, vertical=True)\n"
   ]
  },
  {
   "cell_type": "code",
   "execution_count": 5,
   "id": "524a912e",
   "metadata": {},
   "outputs": [
    {
     "name": "stderr",
     "output_type": "stream",
     "text": [
      "[Stage 79:>                                                         (0 + 1) / 1]\r"
     ]
    },
    {
     "name": "stdout",
     "output_type": "stream",
     "text": [
      "index: 2845931\n",
      "uid_s: 2845931\n",
      "platform_s: 2\n",
      "device_mapped_s: 18978\n",
      "device_manufacturer_s: 3030\n",
      "device_mem_i: 2444\n",
      "device_gmem_i: 9\n",
      "device_mem_grouping_i: 113\n",
      "device_gmem_grouping_i: 9\n",
      "device_numcpu_i: 13\n",
      "device_height_i: 216\n",
      "device_gpu_s: 567\n",
      "device_os_s: 75074\n",
      "device_model_s: 19085\n"
     ]
    },
    {
     "name": "stderr",
     "output_type": "stream",
     "text": [
      "\r",
      "                                                                                \r"
     ]
    }
   ],
   "source": [
    "distinct_device_vals = dict()\n",
    "for col in devices.columns:\n",
    "    distinct_device_vals[col] = devices.groupby(col).count().count()\n",
    "\n",
    "_ = [print(f\"{val}: {cnt}\") for val,cnt in distinct_device_vals.items()]"
   ]
  },
  {
   "cell_type": "code",
   "execution_count": 6,
   "id": "df031088",
   "metadata": {},
   "outputs": [],
   "source": [
    "# devices.groupby('device_numcpu_i').count().show()"
   ]
  },
  {
   "cell_type": "code",
   "execution_count": 7,
   "id": "94e676a1",
   "metadata": {},
   "outputs": [],
   "source": [
    "# devices.groupby('device_gmem_grouping_i').count().show(9)\n",
    "# devices.groupby('device_gmem_i').count().show(9)"
   ]
  },
  {
   "cell_type": "code",
   "execution_count": 8,
   "id": "23e61120",
   "metadata": {},
   "outputs": [],
   "source": [
    "devices = devices.drop('index').drop('device_gmem_i')"
   ]
  },
  {
   "cell_type": "markdown",
   "id": "d1796693",
   "metadata": {},
   "source": [
    "# Load the user actions table to spark dataframe"
   ]
  },
  {
   "cell_type": "code",
   "execution_count": 9,
   "id": "6c3abf94",
   "metadata": {},
   "outputs": [
    {
     "name": "stderr",
     "output_type": "stream",
     "text": [
      "                                                                                \r"
     ]
    },
    {
     "name": "stdout",
     "output_type": "stream",
     "text": [
      "DataFrame[uid_s: bigint, logins: double, game_stats_tutorial_complete: double, game_stats_tutorial_complete_time: double, game_stats_xp: double, game_stats_xp1: double, game_stats_xp2: double, game_stats_xp3: double, redeemer_actions: double, scribe_actions: double]\n",
      "-RECORD 0-----------------------------------\n",
      " uid_s                             | 0      \n",
      " logins                            | 7.0    \n",
      " game_stats_tutorial_complete      | 1.0    \n",
      " game_stats_tutorial_complete_time | 4.7E8  \n",
      " game_stats_xp                     | 1693.0 \n",
      " game_stats_xp1                    | 592.0  \n",
      " game_stats_xp2                    | 0.0    \n",
      " game_stats_xp3                    | 429.0  \n",
      " redeemer_actions                  | 446.0  \n",
      " scribe_actions                    | 364.0  \n",
      "-RECORD 1-----------------------------------\n",
      " uid_s                             | 1      \n",
      " logins                            | 2.0    \n",
      " game_stats_tutorial_complete      | 1.0    \n",
      " game_stats_tutorial_complete_time | 6.12E8 \n",
      " game_stats_xp                     | 197.0  \n",
      " game_stats_xp1                    | 197.0  \n",
      " game_stats_xp2                    | 0.0    \n",
      " game_stats_xp3                    | 0.0    \n",
      " redeemer_actions                  | 60.0   \n",
      " scribe_actions                    | 125.0  \n",
      "only showing top 2 rows\n",
      "\n"
     ]
    }
   ],
   "source": [
    "spark = (pyspark.sql.SparkSession.builder\n",
    "        .master(\"local[8]\")\n",
    "        .appName(\"user_action_loader\")\n",
    "        .config(\"spark.driver.memory\", \"15g\")\n",
    "        .getOrCreate())\n",
    "\n",
    "if 'actions' not in locals().keys():\n",
    "    actions = spark.read.parquet(\"./kabam_ds_interview/ka_actions.parquet\")\n",
    "\n",
    "    # Check that there is only one instance per user\n",
    "    assert (actions.select('uid_s').distinct().count() == actions.count())\n",
    "\n",
    "print(actions)\n",
    "actions.show(2, vertical=True)"
   ]
  },
  {
   "cell_type": "code",
   "execution_count": 10,
   "id": "e3a7cde8",
   "metadata": {},
   "outputs": [
    {
     "name": "stderr",
     "output_type": "stream",
     "text": [
      "                                                                                \r"
     ]
    },
    {
     "name": "stdout",
     "output_type": "stream",
     "text": [
      "uid_s: 2845931\n",
      "logins: 199\n",
      "game_stats_tutorial_complete: 3\n",
      "game_stats_tutorial_complete_time: 27948\n",
      "game_stats_xp: 22260\n",
      "game_stats_xp1: 5594\n",
      "game_stats_xp2: 7897\n",
      "game_stats_xp3: 7836\n",
      "redeemer_actions: 3747\n",
      "scribe_actions: 1074\n"
     ]
    },
    {
     "name": "stderr",
     "output_type": "stream",
     "text": [
      "\r",
      "[Stage 151:=================================================>       (7 + 1) / 8]\r",
      "\r",
      "                                                                                \r"
     ]
    }
   ],
   "source": [
    "distinct_action_vals = dict()\n",
    "for col in actions.columns:\n",
    "    distinct_action_vals[col] = actions.groupby(col).count().count()\n",
    "\n",
    "_ = [print(f\"{val}: {cnt}\") for val,cnt in distinct_action_vals.items()]"
   ]
  },
  {
   "cell_type": "markdown",
   "id": "85db782c",
   "metadata": {},
   "source": [
    "# Load users actions table to spark dataframe"
   ]
  },
  {
   "cell_type": "code",
   "execution_count": 11,
   "id": "c2c8f8fb",
   "metadata": {},
   "outputs": [
    {
     "name": "stderr",
     "output_type": "stream",
     "text": [
      "                                                                                \r"
     ]
    },
    {
     "name": "stdout",
     "output_type": "stream",
     "text": [
      "DataFrame[uid_s: int, lang_s: string, geo_s: string, region_s: string, tz_i: int, local_time_join_hour: int, local_time_join_dow: int, total_spend: double]\n",
      "+-----+------+-----+--------+------+--------------------+-------------------+-----------+\n",
      "|uid_s|lang_s|geo_s|region_s|  tz_i|local_time_join_hour|local_time_join_dow|total_spend|\n",
      "+-----+------+-----+--------+------+--------------------+-------------------+-----------+\n",
      "|    0|    EN|   MY|    asia| 28800|                  14|                  3|        0.0|\n",
      "|    1|    ES|   MX|americas|-18000|                  14|                  1|        0.0|\n",
      "|    2| ZH-CN|   CN|    asia| 28800|                   2|                  3|        0.0|\n",
      "|    3| ZH-CN|   CN|    asia| 28800|                   8|                  6|        0.0|\n",
      "|    4|    EN|   IN|    asia| 19800|                  19|                  6|        0.0|\n",
      "|    5|    EN|   ID|    asia| 25200|                  11|                  6|        0.0|\n",
      "|    6|    EN|   IN|    asia| 19800|                  23|                  2|        0.0|\n",
      "|    7| ZH-CN|   CN|    asia| 28800|                  22|                  2|        0.0|\n",
      "|    8| ZH-CN|   CN|    asia| 28800|                  16|                  6|        0.0|\n",
      "|    9|    EN|   IN|    asia| 19800|                   6|                  6|        0.0|\n",
      "+-----+------+-----+--------+------+--------------------+-------------------+-----------+\n",
      "only showing top 10 rows\n",
      "\n"
     ]
    }
   ],
   "source": [
    "if 'users' not in locals().keys():\n",
    "    schema = StructType([\n",
    "        StructField(\"uid_s\", IntegerType()),\n",
    "        StructField(\"lang_s\", StringType()),\n",
    "        StructField(\"geo_s\", StringType()),\n",
    "        StructField(\"region_s\", StringType()),\n",
    "        StructField(\"tz_i\", IntegerType()),\n",
    "        StructField(\"local_time_join_hour\", IntegerType()),\n",
    "        StructField(\"local_time_join_dow\", IntegerType()),\n",
    "        StructField(\"total_spend\", DoubleType()),\n",
    "\n",
    "    ])\n",
    "    users = spark.read.csv(\"./kabam_ds_interview/ka_users.csv\", header=True, schema=schema)\n",
    "\n",
    "    assert (users.select('uid_s').distinct().count() == users.count())\n",
    "\n",
    "print(users)\n",
    "users.show(10)"
   ]
  },
  {
   "cell_type": "code",
   "execution_count": 12,
   "id": "ac20f340",
   "metadata": {},
   "outputs": [
    {
     "name": "stderr",
     "output_type": "stream",
     "text": [
      "[Stage 209:=======>                                                 (1 + 7) / 8]\r"
     ]
    },
    {
     "name": "stdout",
     "output_type": "stream",
     "text": [
      "uid_s: 2845931\n",
      "lang_s: 17\n",
      "geo_s: 229\n",
      "region_s: 6\n",
      "tz_i: 34\n",
      "local_time_join_hour: 24\n",
      "local_time_join_dow: 7\n",
      "total_spend: 79\n"
     ]
    },
    {
     "name": "stderr",
     "output_type": "stream",
     "text": [
      "\r",
      "                                                                                \r"
     ]
    }
   ],
   "source": [
    "distinct_user_vals = dict()\n",
    "for col in users.columns:\n",
    "    distinct_user_vals[col] = users.groupby(col).count().count()\n",
    "\n",
    "_ = [print(f\"{val}: {cnt}\") for val,cnt in distinct_user_vals.items()]"
   ]
  },
  {
   "cell_type": "code",
   "execution_count": 13,
   "id": "216ce707",
   "metadata": {},
   "outputs": [],
   "source": [
    "# users.groupby('region_s').count().show()"
   ]
  },
  {
   "cell_type": "code",
   "execution_count": 14,
   "id": "47fa1622",
   "metadata": {},
   "outputs": [],
   "source": [
    "# users.groupby('geo_s').count().show()"
   ]
  },
  {
   "cell_type": "code",
   "execution_count": 15,
   "id": "58c49ebf",
   "metadata": {},
   "outputs": [],
   "source": [
    "# users.select('total_spend').describe().show()"
   ]
  },
  {
   "cell_type": "code",
   "execution_count": 16,
   "id": "e3c71f05",
   "metadata": {},
   "outputs": [
    {
     "name": "stderr",
     "output_type": "stream",
     "text": [
      "[Stage 220:============================>                            (4 + 4) / 8]\r"
     ]
    },
    {
     "name": "stdout",
     "output_type": "stream",
     "text": [
      "Final row count: 2845931\n",
      "\n",
      "Final col count: 28\n",
      "\n",
      "DataFrame[uid_s: int, lang_s: string, geo_s: string, region_s: string, tz_i: int, local_time_join_hour: int, local_time_join_dow: int, total_spend: double, platform_s: string, device_mapped_s: string, device_manufacturer_s: string, device_mem_i: double, device_mem_grouping_i: double, device_gmem_grouping_i: double, device_numcpu_i: double, device_height_i: double, device_gpu_s: string, device_os_s: string, device_model_s: string, logins: double, game_stats_tutorial_complete: double, game_stats_tutorial_complete_time: double, game_stats_xp: double, game_stats_xp1: double, game_stats_xp2: double, game_stats_xp3: double, redeemer_actions: double, scribe_actions: double]\n"
     ]
    },
    {
     "name": "stderr",
     "output_type": "stream",
     "text": [
      "\r",
      "                                                                                \r"
     ]
    }
   ],
   "source": [
    "user_device = users.join(devices, on=['uid_s'], how='left')\n",
    "user_device_action = user_device.join(actions, on=['uid_s'], how='left')\n",
    "\n",
    "print(f\"Final row count: {user_device_action.count()}\\n\")\n",
    "print(f\"Final col count: {len(user_device_action.columns)}\\n\")\n",
    "\n",
    "print(user_device_action)"
   ]
  },
  {
   "cell_type": "markdown",
   "id": "e2ae820f",
   "metadata": {},
   "source": [
    "### Binarize the total spend and create label (0,1) for (no money spent, money spent)"
   ]
  },
  {
   "cell_type": "code",
   "execution_count": 17,
   "id": "3143fc23",
   "metadata": {},
   "outputs": [
    {
     "data": {
      "text/plain": [
       "DataFrame[uid_s: int, lang_s: string, geo_s: string, region_s: string, tz_i: int, local_time_join_hour: int, local_time_join_dow: int, platform_s: string, device_mapped_s: string, device_manufacturer_s: string, device_mem_i: double, device_mem_grouping_i: double, device_gmem_grouping_i: double, device_numcpu_i: double, device_height_i: double, device_gpu_s: string, device_os_s: string, device_model_s: string, label: double]"
      ]
     },
     "execution_count": 17,
     "metadata": {},
     "output_type": "execute_result"
    }
   ],
   "source": [
    "binarizer = Binarizer(threshold=0.0, inputCol=\"total_spend\", outputCol=\"label\")\n",
    "binarizedDF = binarizer.transform(user_device)\n",
    "binarizedDF = binarizedDF.drop(\"total_spend\")\n",
    "\n",
    "binarizedDF"
   ]
  },
  {
   "cell_type": "code",
   "execution_count": 18,
   "id": "28c2734b",
   "metadata": {},
   "outputs": [],
   "source": [
    "### CHECK THE EFFECT OF DROPPING ROWS WITH ANY NULL\n",
    "\n",
    "# binarizedDF.where(binarizedDF.label==1).select(\n",
    "#     [count(when(isnan(c) | py_col(c).isNull(), c)).alias(c) for c in binarizedDF.columns]).show(vertical=True)"
   ]
  },
  {
   "cell_type": "code",
   "execution_count": 19,
   "id": "da305dc7",
   "metadata": {},
   "outputs": [],
   "source": [
    "# if the counts are small drop every row that has a null value\n",
    "binarizedDF = binarizedDF.dropna(\"any\")\n",
    "\n",
    "\n",
    "all_distinct_vals = dict()\n",
    "all_distinct_vals.update(distinct_user_vals)\n",
    "all_distinct_vals.update(distinct_action_vals)\n",
    "all_distinct_vals.update(distinct_device_vals)\n",
    "\n",
    "col_to_drop = []\n",
    "\n",
    "for i,col in enumerate(binarizedDF.columns):\n",
    "    if binarizedDF.dtypes[i][1]=='string' and all_distinct_vals[col] > 1000:\n",
    "        col_to_drop.append(col)\n",
    "\n",
    "for col in col_to_drop:\n",
    "    binarizedDF = binarizedDF.drop(col)"
   ]
  },
  {
   "cell_type": "code",
   "execution_count": 20,
   "id": "2134808f",
   "metadata": {},
   "outputs": [
    {
     "name": "stdout",
     "output_type": "stream",
     "text": [
      "The following columns will be string indexed\n",
      "['lang_s', 'geo_s', 'region_s', 'platform_s', 'device_gpu_s']\n"
     ]
    },
    {
     "name": "stderr",
     "output_type": "stream",
     "text": [
      "                                                                                \r"
     ]
    },
    {
     "data": {
      "text/plain": [
       "DataFrame[uid_s: int, lang_s: string, geo_s: string, region_s: string, tz_i: int, local_time_join_hour: int, local_time_join_dow: int, platform_s: string, device_mem_i: double, device_mem_grouping_i: double, device_gmem_grouping_i: double, device_numcpu_i: double, device_height_i: double, device_gpu_s: string, label: double, lang_s_idx: double, geo_s_idx: double, region_s_idx: double, platform_s_idx: double, device_gpu_s_idx: double]"
      ]
     },
     "execution_count": 20,
     "metadata": {},
     "output_type": "execute_result"
    }
   ],
   "source": [
    "categ_cols = [col for i,col in enumerate(binarizedDF.columns) if binarizedDF.dtypes[i][1]=='string']\n",
    "categ_indexed = [col+\"_idx\" for col in categ_cols]\n",
    "\n",
    "print(\"The following columns will be string indexed\")\n",
    "print(categ_cols)\n",
    "\n",
    "stringIndexer = StringIndexer(inputCols=categ_cols, outputCols=categ_indexed)\n",
    "indexer_model = stringIndexer.fit(binarizedDF)\n",
    "final_df = indexer_model.transform(binarizedDF)\n",
    "\n",
    "final_df"
   ]
  },
  {
   "cell_type": "code",
   "execution_count": 21,
   "id": "4dea930e",
   "metadata": {},
   "outputs": [
    {
     "name": "stdout",
     "output_type": "stream",
     "text": [
      "Num cols : 14\n",
      "\n",
      "root\n",
      " |-- tz_i: integer (nullable = true)\n",
      " |-- local_time_join_hour: integer (nullable = true)\n",
      " |-- local_time_join_dow: integer (nullable = true)\n",
      " |-- device_mem_i: double (nullable = true)\n",
      " |-- device_mem_grouping_i: double (nullable = true)\n",
      " |-- device_gmem_grouping_i: double (nullable = true)\n",
      " |-- device_numcpu_i: double (nullable = true)\n",
      " |-- device_height_i: double (nullable = true)\n",
      " |-- label: double (nullable = true)\n",
      " |-- lang_s_idx: double (nullable = false)\n",
      " |-- geo_s_idx: double (nullable = false)\n",
      " |-- region_s_idx: double (nullable = false)\n",
      " |-- platform_s_idx: double (nullable = false)\n",
      " |-- device_gpu_s_idx: double (nullable = false)\n",
      "\n"
     ]
    }
   ],
   "source": [
    "other_drops = ['uid_s'] # 'geo_s_idx', \n",
    "\n",
    "for drop_col in categ_cols+other_drops:\n",
    "    final_df = final_df.drop(drop_col)\n",
    "\n",
    "print(f\"Num cols : {len(final_df.columns)}\\n\")\n",
    "final_df.printSchema()"
   ]
  },
  {
   "cell_type": "code",
   "execution_count": 22,
   "id": "e86cf4c7",
   "metadata": {},
   "outputs": [
    {
     "data": {
      "text/plain": [
       "OneHotEncoder_592e0063da92"
      ]
     },
     "execution_count": 22,
     "metadata": {},
     "output_type": "execute_result"
    }
   ],
   "source": [
    "# Do one-hot-encoding of categorical variables\n",
    "cat_one_hot_in = [col for col in categ_indexed if  col in final_df.columns]\n",
    "cat_one_hot_out = [col+'_hot' for col in cat_one_hot_in]\n",
    "\n",
    "ohe = OneHotEncoder()\n",
    "ohe.setInputCols(cat_one_hot_in)\n",
    "ohe.setOutputCols(cat_one_hot_out)"
   ]
  },
  {
   "cell_type": "code",
   "execution_count": 23,
   "id": "fa32e9ee",
   "metadata": {},
   "outputs": [
    {
     "name": "stdout",
     "output_type": "stream",
     "text": [
      "root\n",
      " |-- tz_i: integer (nullable = true)\n",
      " |-- local_time_join_hour: integer (nullable = true)\n",
      " |-- local_time_join_dow: integer (nullable = true)\n",
      " |-- device_mem_i: double (nullable = true)\n",
      " |-- device_mem_grouping_i: double (nullable = true)\n",
      " |-- device_gmem_grouping_i: double (nullable = true)\n",
      " |-- device_numcpu_i: double (nullable = true)\n",
      " |-- device_height_i: double (nullable = true)\n",
      " |-- label: double (nullable = true)\n",
      " |-- lang_s_idx_hot: vector (nullable = true)\n",
      " |-- geo_s_idx_hot: vector (nullable = true)\n",
      " |-- region_s_idx_hot: vector (nullable = true)\n",
      " |-- platform_s_idx_hot: vector (nullable = true)\n",
      " |-- device_gpu_s_idx_hot: vector (nullable = true)\n",
      "\n"
     ]
    }
   ],
   "source": [
    "ohe_model = ohe.fit(final_df)\n",
    "\n",
    "final_df_2 = ohe_model.transform(final_df)\n",
    "\n",
    "for col in cat_one_hot_in:\n",
    "    final_df_2 = final_df_2.drop(col)\n",
    "\n",
    "final_df_2.printSchema()"
   ]
  },
  {
   "cell_type": "code",
   "execution_count": 24,
   "id": "14b18dd7",
   "metadata": {},
   "outputs": [
    {
     "name": "stdout",
     "output_type": "stream",
     "text": [
      "root\n",
      " |-- tz_i: integer (nullable = true)\n",
      " |-- local_time_join_hour: integer (nullable = true)\n",
      " |-- local_time_join_dow: integer (nullable = true)\n",
      " |-- device_mem_i: double (nullable = true)\n",
      " |-- device_mem_grouping_i: double (nullable = true)\n",
      " |-- device_gmem_grouping_i: double (nullable = true)\n",
      " |-- device_numcpu_i: double (nullable = true)\n",
      " |-- device_height_i: double (nullable = true)\n",
      " |-- label: double (nullable = true)\n",
      " |-- lang_s_idx_hot: vector (nullable = true)\n",
      " |-- geo_s_idx_hot: vector (nullable = true)\n",
      " |-- region_s_idx_hot: vector (nullable = true)\n",
      " |-- platform_s_idx_hot: vector (nullable = true)\n",
      " |-- device_gpu_s_idx_hot: vector (nullable = true)\n",
      " |-- features: vector (nullable = true)\n",
      "\n"
     ]
    }
   ],
   "source": [
    "assembler = VectorAssembler(inputCols = final_df_2.drop('label').columns, outputCol = \"features\")\n",
    "assembled = assembler.transform(final_df_2)\n",
    "\n",
    "assembled.printSchema()"
   ]
  },
  {
   "cell_type": "code",
   "execution_count": 25,
   "id": "7a08b83a",
   "metadata": {},
   "outputs": [],
   "source": [
    "# selector = UnivariateFeatureSelector(outputCol=\"selectedFeatures\")\n",
    "# selector.setFeatureType(\"categorical\").setLabelType(\"categorical\").setSelectionThreshold(5)\n",
    "\n",
    "# model = selector.fit(assembled)\n",
    "\n",
    "# model.setFeaturesCol(\"features\")\n",
    "# model.transform(assembled.drop('label')).head().selectedFeatures\n",
    "\n",
    "# top_features = [assembled.drop('label').columns[i] for i in model.selectedFeatures]\n",
    "# print(top_features)"
   ]
  },
  {
   "cell_type": "markdown",
   "id": "7f4182e6",
   "metadata": {},
   "source": [
    "## Split dataset then fix imbalance in training data"
   ]
  },
  {
   "cell_type": "code",
   "execution_count": 26,
   "id": "6568ce7c",
   "metadata": {},
   "outputs": [],
   "source": [
    "# Need to calculate ratio first here\n",
    "\n",
    "majority_df = assembled.filter(assembled.label == 0)\n",
    "minority_df = assembled.filter(assembled.label == 1)\n",
    "\n",
    "train_majority, test_majority = majority_df.randomSplit([0.7, 0.3], seed=0)\n",
    "train_minority, test_minority = minority_df.randomSplit([0.7, 0.3], seed=0)\n",
    "\n",
    "train_majority_resampled = train_majority.sampleBy('region_s_idx', \n",
    "                                                   fractions={i:1/80 for i in range(5)}, \n",
    "                                                   seed=3)\n",
    "\n",
    "train_balanced = train_majority_resampled.unionAll(train_minority)\n",
    "test_data = test_majority.unionAll(test_minority)\n",
    "\n",
    "del train_majority, test_majority, train_minority, test_minority\n",
    "\n",
    "# train_balanced.groupby('label').count().show()\n",
    "# test_data.groupby('label').count().show()\n"
   ]
  },
  {
   "cell_type": "code",
   "execution_count": 27,
   "id": "77a1d860",
   "metadata": {},
   "outputs": [],
   "source": [
    "# oss = OneSidedSelection(sampling_strategy = 'majority', random_state=0)\n",
    "\n",
    "# X_resampled, y_resampled = oss.fit_resample(train_data.select('features').collect(),\n",
    "#                                             train_data.select('label').collect())\n",
    "\n",
    "# balanced_df = X_resampled.withColumn('label', y_resampled)\n",
    "\n",
    "# balanced_df.groupby('label').count().show()\n"
   ]
  },
  {
   "cell_type": "code",
   "execution_count": 28,
   "id": "966ccefc",
   "metadata": {},
   "outputs": [
    {
     "name": "stdout",
     "output_type": "stream",
     "text": [
      "root\n",
      " |-- tz_i: integer (nullable = true)\n",
      " |-- local_time_join_hour: integer (nullable = true)\n",
      " |-- local_time_join_dow: integer (nullable = true)\n",
      " |-- device_mem_i: double (nullable = true)\n",
      " |-- device_mem_grouping_i: double (nullable = true)\n",
      " |-- device_gmem_grouping_i: double (nullable = true)\n",
      " |-- device_numcpu_i: double (nullable = true)\n",
      " |-- device_height_i: double (nullable = true)\n",
      " |-- label: double (nullable = true)\n",
      " |-- lang_s_idx_hot: vector (nullable = true)\n",
      " |-- geo_s_idx_hot: vector (nullable = true)\n",
      " |-- region_s_idx_hot: vector (nullable = true)\n",
      " |-- platform_s_idx_hot: vector (nullable = true)\n",
      " |-- device_gpu_s_idx_hot: vector (nullable = true)\n",
      " |-- features: vector (nullable = true)\n",
      "\n"
     ]
    }
   ],
   "source": [
    "# train_balanced.groupby('region_s_idx').count().show()\n",
    "train_balanced.printSchema()"
   ]
  },
  {
   "cell_type": "markdown",
   "id": "59ed4cf5",
   "metadata": {},
   "source": [
    "# Test train split"
   ]
  },
  {
   "cell_type": "code",
   "execution_count": 30,
   "id": "3739cfbb",
   "metadata": {},
   "outputs": [
    {
     "name": "stderr",
     "output_type": "stream",
     "text": [
      "                                                                                \r"
     ]
    }
   ],
   "source": [
    "# test training a classifier with the special variables\n",
    "# IF THIS TRAINS FINE THEN WE CAN DO OPTIMIZATION ON GOOGLE COLAB WITH SOME HINTS ABOUT THE TOP FEATURES\n",
    "\n",
    "### WOOOOHOOOOOO\n",
    "\n",
    "tree_class = DecisionTreeClassifier(maxDepth=5, labelCol=\"label\", leafCol=\"leafId\")\n",
    "trained_model = tree_class.fit(train_balanced.select('features','label'))"
   ]
  },
  {
   "cell_type": "code",
   "execution_count": 31,
   "id": "db90a56e",
   "metadata": {},
   "outputs": [
    {
     "data": {
      "text/plain": [
       "SparseVector(821, {2: 0.0003, 3: 0.5599, 4: 0.0186, 7: 0.1703, 9: 0.0013, 24: 0.0003, 25: 0.0561, 27: 0.1074, 256: 0.007, 259: 0.0004, 263: 0.0079, 268: 0.0558, 273: 0.0005, 276: 0.0016, 282: 0.0059, 296: 0.0068})"
      ]
     },
     "execution_count": 31,
     "metadata": {},
     "output_type": "execute_result"
    }
   ],
   "source": [
    "important_features = trained_model.featureImportances\n",
    "important_features\n"
   ]
  },
  {
   "cell_type": "code",
   "execution_count": 32,
   "id": "47f22027",
   "metadata": {},
   "outputs": [
    {
     "name": "stdout",
     "output_type": "stream",
     "text": [
      "(821,[2,3,4,7,9,24,25,27,256,259,263,268,273,276,282,296],[0.0002638010780145154,0.5599076000815898,0.018561222107093267,0.17028864150061465,0.0012910250391506841,0.000301030158733698,0.056099881506244134,0.10736868268171898,0.007035474566367829,0.000352624400854356,0.007855151722555182,0.05584780071933017,0.0005380933546021983,0.001599155462710723,0.005908653407405628,0.006781162213014212])\n"
     ]
    }
   ],
   "source": [
    "print(important_features)"
   ]
  },
  {
   "cell_type": "code",
   "execution_count": 33,
   "id": "bf4ad320",
   "metadata": {},
   "outputs": [
    {
     "name": "stdout",
     "output_type": "stream",
     "text": [
      "(3, 0.5599076000815898)\n",
      "(7, 0.17028864150061465)\n",
      "(27, 0.10736868268171898)\n",
      "(25, 0.056099881506244134)\n",
      "(268, 0.05584780071933017)\n",
      "(4, 0.018561222107093267)\n",
      "(263, 0.007855151722555182)\n",
      "(256, 0.007035474566367829)\n",
      "(296, 0.006781162213014212)\n",
      "(282, 0.005908653407405628)\n",
      "(276, 0.001599155462710723)\n",
      "(9, 0.0012910250391506841)\n",
      "(273, 0.0005380933546021983)\n",
      "(259, 0.000352624400854356)\n",
      "(24, 0.000301030158733698)\n",
      "(2, 0.0002638010780145154)\n"
     ]
    }
   ],
   "source": [
    "important_list = sorted([(i,prob) for i,prob in enumerate(important_features) if prob != 0],\n",
    "                        reverse=True, key = lambda x: x[1])\n",
    "_ = [print(val) for val in important_list]"
   ]
  },
  {
   "cell_type": "code",
   "execution_count": 35,
   "id": "ec7e485e",
   "metadata": {},
   "outputs": [
    {
     "name": "stderr",
     "output_type": "stream",
     "text": [
      "22/01/09 00:17:27 WARN package: Truncated the string representation of a plan since it was too large. This behavior can be adjusted by setting 'spark.sql.debug.maxToStringFields'.\n",
      "[Stage 272:>                                                        (0 + 1) / 1]\r"
     ]
    },
    {
     "name": "stdout",
     "output_type": "stream",
     "text": [
      "-RECORD 0--------------------------------------\n",
      " tz_i                   | -39600               \n",
      " local_time_join_hour   | 2                    \n",
      " local_time_join_dow    | 7                    \n",
      " device_mem_i           | 1837.0               \n",
      " device_mem_grouping_i  | 1856.0               \n",
      " device_gmem_grouping_i | 512.0                \n",
      " device_numcpu_i        | 4.0                  \n",
      " device_height_i        | 720.0                \n",
      " label                  | 0.0                  \n",
      " lang_s_idx_hot         | (16,[3],[1.0])       \n",
      " geo_s_idx_hot          | (227,[2],[1.0])      \n",
      " region_s_idx_hot       | (5,[1],[1.0])        \n",
      " platform_s_idx_hot     | (1,[0],[1.0])        \n",
      " device_gpu_s_idx_hot   | (564,[1],[1.0])      \n",
      " features               | (821,[0,1,2,3,4,5... \n",
      "only showing top 1 row\n",
      "\n"
     ]
    },
    {
     "name": "stderr",
     "output_type": "stream",
     "text": [
      "\r",
      "                                                                                \r"
     ]
    }
   ],
   "source": [
    "train_balanced.show(1,vertical=True)"
   ]
  },
  {
   "cell_type": "code",
   "execution_count": 36,
   "id": "9c3d994c",
   "metadata": {},
   "outputs": [
    {
     "data": {
      "text/plain": [
       "{'idx': 8, 'name': 'lang_s_idx_hot_EN'}"
      ]
     },
     "execution_count": 36,
     "metadata": {},
     "output_type": "execute_result"
    }
   ],
   "source": [
    "train_balanced.schema[\"features\"].metadata[\"ml_attr\"]['attrs']['binary'][0]"
   ]
  },
  {
   "cell_type": "code",
   "execution_count": 38,
   "id": "e9cb8980",
   "metadata": {},
   "outputs": [
    {
     "name": "stdout",
     "output_type": "stream",
     "text": [
      "device_mem_i                                      :\t 0.5599076000815898\n",
      "device_height_i                                   :\t 0.17028864150061465\n",
      "geo_s_idx_hot_BR                                  :\t 0.10736868268171898\n",
      "geo_s_idx_hot_CN                                  :\t 0.056099881506244134\n",
      "device_gpu_s_idx_hot_mali-g71                     :\t 0.05584780071933017\n",
      "device_mem_grouping_i                             :\t 0.018561222107093267\n",
      "device_gpu_s_idx_hot_apple a10 gpu                :\t 0.007855151722555182\n",
      "region_s_idx_hot_oceania                          :\t 0.007035474566367829\n",
      "device_gpu_s_idx_hot_powervr sgx 554              :\t 0.006781162213014212\n",
      "device_gpu_s_idx_hot_adreno (tm) 540              :\t 0.005908653407405628\n",
      "device_gpu_s_idx_hot_mali-g72 mp3                 :\t 0.001599155462710723\n",
      "lang_s_idx_hot_EN                                 :\t 0.0012910250391506841\n",
      "device_gpu_s_idx_hot_apple a12 gpu                :\t 0.0005380933546021983\n",
      "device_gpu_s_idx_hot_mali-t720                    :\t 0.000352624400854356\n",
      "lang_s_idx_hot_NL                                 :\t 0.000301030158733698\n",
      "local_time_join_dow                               :\t 0.0002638010780145154\n"
     ]
    }
   ],
   "source": [
    "tree_priority = []\n",
    "\n",
    "ml_attrs = train_balanced.schema[\"features\"].metadata[\"ml_attr\"]['attrs']\n",
    "\n",
    "for i,prob in enumerate(important_features):\n",
    "    if prob > 0:\n",
    "        if i<= 8:\n",
    "            feat_name = ml_attrs['numeric'][i]['name']\n",
    "        else:\n",
    "            feat_name = ml_attrs['binary'][i-9]['name']\n",
    "\n",
    "        tree_priority.append((feat_name, prob))\n",
    "    \n",
    "tree_priority.sort(reverse=True, key = lambda x: x[1])\n",
    "\n",
    "_ = [print(f\"{items[0]:<50}:\\t {items[1]}\") for items in tree_priority]"
   ]
  },
  {
   "cell_type": "code",
   "execution_count": 39,
   "id": "8e3c1dca",
   "metadata": {},
   "outputs": [],
   "source": [
    "preds = trained_model.transform(test_data)"
   ]
  },
  {
   "cell_type": "code",
   "execution_count": 40,
   "id": "48a51416",
   "metadata": {},
   "outputs": [
    {
     "name": "stderr",
     "output_type": "stream",
     "text": [
      "                                                                                \r"
     ]
    }
   ],
   "source": [
    "results = preds.select(['probability', 'label'])\n",
    " \n",
    "## prepare score-label set\n",
    "results_collect = results.collect()\n",
    "results_list = [(float(i[0][0]), 1.0-float(i[1])) for i in results_collect]"
   ]
  },
  {
   "cell_type": "code",
   "execution_count": 41,
   "id": "67a70f8d",
   "metadata": {},
   "outputs": [
    {
     "data": {
      "image/png": "[encoded data removed]",
      "text/plain": [
       "<Figure size 432x288 with 1 Axes>"
      ]
     },
     "metadata": {
      "needs_background": "light"
     },
     "output_type": "display_data"
    }
   ],
   "source": [
    "fpr = dict()\n",
    "tpr = dict()\n",
    "roc_auc = dict()\n",
    " \n",
    "y_test = [i[1] for i in results_list]\n",
    "y_score = [i[0] for i in results_list]\n",
    " \n",
    "fpr, tpr, _ = roc_curve(y_test, y_score)\n",
    "roc_auc = auc(fpr, tpr)\n",
    " \n",
    "%matplotlib inline\n",
    "plt.figure()\n",
    "plt.plot(fpr, tpr, label='ROC curve (area = %0.2f)' % roc_auc)\n",
    "plt.plot([0, 1], [0, 1], 'k--')\n",
    "plt.xlim([0.0, 1.0])\n",
    "plt.ylim([0.0, 1.05])\n",
    "plt.xlabel('False Positive Rate')\n",
    "plt.ylabel('True Positive Rate')\n",
    "plt.title('Receiver operating characteristic Graph')\n",
    "plt.legend(loc=\"lower right\")\n",
    "plt.show()"
   ]
  },
  {
   "cell_type": "code",
   "execution_count": null,
   "id": "32efbc2f",
   "metadata": {},
   "outputs": [],
   "source": []
  }
 ],
 "metadata": {
  "kernelspec": {
   "display_name": "Python 3 (ipykernel)",
   "language": "python",
   "name": "python3"
  },
  "language_info": {
   "codemirror_mode": {
    "name": "ipython",
    "version": 3
   },
   "file_extension": ".py",
   "mimetype": "text/x-python",
   "name": "python",
   "nbconvert_exporter": "python",
   "pygments_lexer": "ipython3",
   "version": "3.9.9"
  }
 },
 "nbformat": 4,
 "nbformat_minor": 5
}
