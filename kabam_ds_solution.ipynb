{
 "cells": [
  {
   "cell_type": "markdown",
   "id": "ac65a2ad",
   "metadata": {},
   "source": [
    "There is an extra column called index\n",
    "\n",
    "keep in mind we are doing liftup analysis\n",
    "\n",
    "ONLY SINGLE ENTRY PER USER???\n",
    "\n",
    "variance analysis, anova, pearson correlation\n",
    "\n",
    "decision trees for feature importance\n",
    "\n",
    "can straight up train a model with all the features and working through the batches then we can do ablation studies or feature importance analysis \n",
    "\n",
    "remove the least importatnt features and retrain the model to get the final results\n",
    "\n",
    "use liftup analysis as metric to determine the performance of our model\n",
    "\n",
    "users.total_spend is the label and item that we need to find a correlation for \n",
    "\n",
    "##### Features ---- 27\n",
    "users   - 6\n",
    "actions - 9\n",
    "devices - 12\n",
    "\n",
    "### size of users same as devices -- maybe they changed devices??\n",
    "\n",
    "#### Could I possibly use reservoir sampling of size 1000 to determine correlation among features as well as label"
   ]
  },
  {
   "cell_type": "code",
   "execution_count": 1,
   "id": "553795ec",
   "metadata": {},
   "outputs": [
    {
     "name": "stderr",
     "output_type": "stream",
     "text": [
      "WARNING:root:'PYARROW_IGNORE_TIMEZONE' environment variable was not set. It is required to set this environment variable to '1' in both driver and executor sides if you use pyarrow>=2.0.0. pandas-on-Spark will set it for you but it does not work if there is a Spark context already launched.\n"
     ]
    }
   ],
   "source": [
    "import os\n",
    "import subprocess\n",
    "\n",
    "from collections import defaultdict\n",
    "import pyspark\n",
    "import pyspark.pandas as ps\n",
    "\n",
    "from pyspark.sql.types import StructField, StructType, IntegerType, DoubleType, StringType\n",
    "from pyspark.ml.feature import Binarizer, StringIndexer, UnivariateFeatureSelector\n",
    "from pyspark.sql.functions import isnan, when, count\n",
    "\n",
    "from pyspark.sql.functions import col as py_col\n",
    "\n",
    "import matplotlib.pyplot as plt\n",
    "from pandas.plotting import scatter_matrix\n",
    "\n",
    "from pyspark.ml.classification import DecisionTreeClassifier\n",
    "\n",
    "from pyspark.ml.feature import VectorAssembler,VectorIndexer\n",
    "\n",
    "from pyspark.mllib.evaluation import BinaryClassificationMetrics as metric\n",
    "\n",
    "from sklearn.metrics import roc_curve, auc\n",
    "\n",
    "from imblearn.under_sampling import OneSidedSelection\n",
    "\n",
    "from pyspark.ml.feature import OneHotEncoder\n",
    "\n",
    "from sklearn.metrics import confusion_matrix\n"
   ]
  },
  {
   "cell_type": "code",
   "execution_count": 2,
   "id": "3fd84ab8",
   "metadata": {},
   "outputs": [],
   "source": [
    "SQL_LITE_DRVER = \"sqlite-jdbc-3.34.0.jar\"\n",
    "\n",
    "if not os.path.exists(\"./sqlite-jdbc-3.34.0.jar\"):\n",
    "    #### TRY CATCH EXCEPTIONS HERE\n",
    "    subprocess.run([\"curl\", \n",
    "                    \"-O\", \n",
    "                    f\"https://repo1.maven.org/maven2/org/xerial/sqlite-jdbc/3.34.0/{SQL_LITE_DRVER}\"\n",
    "                   ]\n",
    "                  )\n"
   ]
  },
  {
   "cell_type": "code",
   "execution_count": 3,
   "id": "6db1830e",
   "metadata": {},
   "outputs": [
    {
     "name": "stdout",
     "output_type": "stream",
     "text": [
      "DATA IN TEXT FILE\n",
      "\n",
      "ka_actions\n",
      "\n",
      "uid_s - unique user identifier\n",
      "logins - number of logins since install\n",
      "game_stats_tutorial_complete - whether user completed tutorial\n",
      "game_stats_tutorial_complete_time - time (microseconds) to complete game tutorial\n",
      "game_stats_xp - experience points accumulated by first time interval from install\n",
      "game_stats_xp1 - experience points accumulated by second time interval from install\n",
      "game_stats_xp2 - experience points accumulated by third time interval from install\n",
      "game_stats_xp3 - experience points accumulated by fourth time interval from install\n",
      "redeemer_actions - number of 'redeemer' actions since install (Note: 'redeemer' is a type of in-game action)\n",
      "scribe_actions - number of 'scribe' actions since install (Note: 'scribe' is a type of in-game action)\n",
      "\n",
      "\n",
      "ka_devices (stored in a table called 'devices')\n",
      "\n",
      "uid_s - unique user identifier\n",
      "platform_s - installation platform\n",
      "device_mapped_s - common name for device used\n",
      "device_manufacturer_s - device manufacturer\n",
      "device_mem_i - main memory size for device\n",
      "device_gmem_i - graphical memory size for device  \n",
      "device_mem_grouping_i - grouping of the device based on memory size\n",
      "device_gmem_grouping_i - grouping of the device based on graphical memory size\n",
      "device_numcpu_i - number of cores in CPU\n",
      "device_height_i - height of the device\n",
      "device_gpu_s - chipset of the device\n",
      "device_os_s - operating system of the device\n",
      "device_model_s - model number of the device\n",
      "\n",
      "\n",
      "ka_users\n",
      "\n",
      "uid_s - unique user identifier\n",
      "lang_s - language used on user's device\n",
      "geo_s - country level location of the user\n",
      "region_s - regional level location of the user\n",
      "tz_i - time zone of the user \n",
      "local_time_join_hour - hour of the day when the player first installed \n",
      "local_time_join_dow - day of the week when the player first installed\n",
      "total_spend - total in-game spend by the user \n",
      "\n",
      "\n",
      "Device table columns\n",
      "\n",
      " - uid_s \n",
      " - platform_s \n",
      " - device_mapped_s \n",
      " - device_manufacturer_s \n",
      " - device_mem_i \n",
      " - device_gmem_i \n",
      " - device_mem_grouping_i \n",
      " - device_gmem_grouping_i \n",
      " - device_numcpu_i \n",
      " - device_height_i \n",
      " - device_gpu_s \n",
      " - device_os_s \n",
      " - device_model_s \n"
     ]
    }
   ],
   "source": [
    "# load devices table column names\n",
    "col_names = []\n",
    "txt_data = {}\n",
    "start = False\n",
    "\n",
    "print('DATA IN TEXT FILE\\n')\n",
    "_ = subprocess.run(['cat','./kabam_ds_interview/data_dictionary.txt'])\n",
    "\n",
    "with open('./kabam_ds_interview/data_dictionary.txt') as f:\n",
    "    for line in f:\n",
    "        if line.startswith('ka_devices'):\n",
    "            start = True\n",
    "        elif start and len(col_names) and len(line)==1:\n",
    "            break\n",
    "        elif start and len(line)!=1:\n",
    "            col_names.append(line.split('-')[0])\n",
    "\n",
    "print('Device table columns\\n')\n",
    "_ = [print(' - '+col) for col in col_names]\n"
   ]
  },
  {
   "cell_type": "markdown",
   "id": "42a9c9ae",
   "metadata": {},
   "source": [
    "# Load devices table to pyspark dataframe"
   ]
  },
  {
   "cell_type": "code",
   "execution_count": 4,
   "id": "bc481b22",
   "metadata": {},
   "outputs": [
    {
     "name": "stderr",
     "output_type": "stream",
     "text": [
      "WARNING: An illegal reflective access operation has occurred\n",
      "WARNING: Illegal reflective access by org.apache.spark.unsafe.Platform (file:/Users/abew/main_env/lib/python3.9/site-packages/pyspark/jars/spark-unsafe_2.12-3.2.0.jar) to constructor java.nio.DirectByteBuffer(long,int)\n",
      "WARNING: Please consider reporting this to the maintainers of org.apache.spark.unsafe.Platform\n",
      "WARNING: Use --illegal-access=warn to enable warnings of further illegal reflective access operations\n",
      "WARNING: All illegal access operations will be denied in a future release\n",
      "22/01/09 10:04:48 WARN NativeCodeLoader: Unable to load native-hadoop library for your platform... using builtin-java classes where applicable\n",
      "Using Spark's default log4j profile: org/apache/spark/log4j-defaults.properties\n",
      "Setting default log level to \"WARN\".\n",
      "To adjust logging level use sc.setLogLevel(newLevel). For SparkR, use setLogLevel(newLevel).\n"
     ]
    },
    {
     "name": "stdout",
     "output_type": "stream",
     "text": [
      "DataFrame[index: int, uid_s: int, platform_s: string, device_mapped_s: string, device_manufacturer_s: string, device_mem_i: double, device_gmem_i: double, device_mem_grouping_i: double, device_gmem_grouping_i: double, device_numcpu_i: double, device_height_i: double, device_gpu_s: string, device_os_s: string, device_model_s: string]\n",
      "-RECORD 0--------------------------------------\n",
      " index                  | 0                    \n",
      " uid_s                  | 0                    \n",
      " platform_s             | android              \n",
      " device_mapped_s        | asus_x01ad           \n",
      " device_manufacturer_s  | asus                 \n",
      " device_mem_i           | 3575.0               \n",
      " device_gmem_i          | 1024.0               \n",
      " device_mem_grouping_i  | 3584.0               \n",
      " device_gmem_grouping_i | 1024.0               \n",
      " device_numcpu_i        | 8.0                  \n",
      " device_height_i        | 720.0                \n",
      " device_gpu_s           | adreno (tm) 506      \n",
      " device_os_s            | android os 9 / ap... \n",
      " device_model_s         | asus_x01ad           \n",
      "-RECORD 1--------------------------------------\n",
      " index                  | 1                    \n",
      " uid_s                  | 1                    \n",
      " platform_s             | android              \n",
      " device_mapped_s        | moto g (5)           \n",
      " device_manufacturer_s  | motorola             \n",
      " device_mem_i           | 1867.0               \n",
      " device_gmem_i          | 512.0                \n",
      " device_mem_grouping_i  | 1920.0               \n",
      " device_gmem_grouping_i | 512.0                \n",
      " device_numcpu_i        | 8.0                  \n",
      " device_height_i        | 1080.0               \n",
      " device_gpu_s           | adreno (tm) 505      \n",
      " device_os_s            | android os 8.1.0 ... \n",
      " device_model_s         | moto g (5)           \n",
      "-RECORD 2--------------------------------------\n",
      " index                  | 2                    \n",
      " uid_s                  | 2                    \n",
      " platform_s             | android              \n",
      " device_mapped_s        | mi 6                 \n",
      " device_manufacturer_s  | xiaomi               \n",
      " device_mem_i           | 3726.0               \n",
      " device_gmem_i          | 1024.0               \n",
      " device_mem_grouping_i  | 3776.0               \n",
      " device_gmem_grouping_i | 1024.0               \n",
      " device_numcpu_i        | 8.0                  \n",
      " device_height_i        | 1080.0               \n",
      " device_gpu_s           | adreno (tm) 540      \n",
      " device_os_s            | android os 8.0.0 ... \n",
      " device_model_s         | mi 6                 \n",
      "-RECORD 3--------------------------------------\n",
      " index                  | 3                    \n",
      " uid_s                  | 3                    \n",
      " platform_s             | android              \n",
      " device_mapped_s        | oppo r7splus         \n",
      " device_manufacturer_s  | oppo                 \n",
      " device_mem_i           | 3629.0               \n",
      " device_gmem_i          | 1024.0               \n",
      " device_mem_grouping_i  | 3648.0               \n",
      " device_gmem_grouping_i | 1024.0               \n",
      " device_numcpu_i        | 8.0                  \n",
      " device_height_i        | 1080.0               \n",
      " device_gpu_s           | adreno (tm) 405      \n",
      " device_os_s            | android os 5.1.1 ... \n",
      " device_model_s         | oppo r7splus         \n",
      "-RECORD 4--------------------------------------\n",
      " index                  | 4                    \n",
      " uid_s                  | 4                    \n",
      " platform_s             | android              \n",
      " device_mapped_s        | cph1803              \n",
      " device_manufacturer_s  | oppo                 \n",
      " device_mem_i           | 2816.0               \n",
      " device_gmem_i          | 1024.0               \n",
      " device_mem_grouping_i  | 2816.0               \n",
      " device_gmem_grouping_i | 1024.0               \n",
      " device_numcpu_i        | 8.0                  \n",
      " device_height_i        | 720.0                \n",
      " device_gpu_s           | adreno (tm) 506      \n",
      " device_os_s            | android os 8.1.0 ... \n",
      " device_model_s         | cph1803              \n",
      "only showing top 5 rows\n",
      "\n"
     ]
    },
    {
     "name": "stderr",
     "output_type": "stream",
     "text": [
      "\r",
      "[Stage 0:>                                                          (0 + 1) / 1]\r",
      "\r",
      "                                                                                \r"
     ]
    }
   ],
   "source": [
    "if 'devices' not in locals().keys():\n",
    "    (pyspark.sql.SparkSession.builder\n",
    "    .master(\"local[8]\")\n",
    "    .appName(\"SQLite JDBC\")\n",
    "    .config(\n",
    "        \"spark.jars\",\n",
    "        \"./sqlite-jdbc-3.34.0.jar\")\n",
    "    .config(\n",
    "        \"spark.driver.extraClassPath\",\n",
    "        \"./sqlite-jdbc-3.34.0.jar\")\n",
    "    .config(\"spark.driver.memory\", \"15g\")\n",
    "    .getOrCreate())\n",
    "    \n",
    "    devices = ps.read_sql(\"DEVICES\", con=\"jdbc:sqlite:./kabam_ds_interview/ka_devices.db\").to_spark()\n",
    "\n",
    "print(devices)\n",
    "devices.show(5, vertical=True)\n"
   ]
  },
  {
   "cell_type": "code",
   "execution_count": 5,
   "id": "524a912e",
   "metadata": {},
   "outputs": [
    {
     "name": "stderr",
     "output_type": "stream",
     "text": [
      "[Stage 79:>                                                         (0 + 1) / 1]\r"
     ]
    },
    {
     "name": "stdout",
     "output_type": "stream",
     "text": [
      "index: 2845931\n",
      "uid_s: 2845931\n",
      "platform_s: 2\n",
      "device_mapped_s: 18978\n",
      "device_manufacturer_s: 3030\n",
      "device_mem_i: 2444\n",
      "device_gmem_i: 9\n",
      "device_mem_grouping_i: 113\n",
      "device_gmem_grouping_i: 9\n",
      "device_numcpu_i: 13\n",
      "device_height_i: 216\n",
      "device_gpu_s: 567\n",
      "device_os_s: 75074\n",
      "device_model_s: 19085\n"
     ]
    },
    {
     "name": "stderr",
     "output_type": "stream",
     "text": [
      "\r",
      "                                                                                \r"
     ]
    }
   ],
   "source": [
    "distinct_device_vals = dict()\n",
    "for col in devices.columns:\n",
    "    distinct_device_vals[col] = devices.groupby(col).count().count()\n",
    "\n",
    "_ = [print(f\"{val}: {cnt}\") for val,cnt in distinct_device_vals.items()]"
   ]
  },
  {
   "cell_type": "code",
   "execution_count": 6,
   "id": "df031088",
   "metadata": {},
   "outputs": [],
   "source": [
    "# devices.groupby('device_numcpu_i').count().show()"
   ]
  },
  {
   "cell_type": "code",
   "execution_count": 7,
   "id": "94e676a1",
   "metadata": {},
   "outputs": [],
   "source": [
    "# devices.groupby('device_gmem_grouping_i').count().show(9)\n",
    "# devices.groupby('device_gmem_i').count().show(9)"
   ]
  },
  {
   "cell_type": "code",
   "execution_count": 8,
   "id": "23e61120",
   "metadata": {},
   "outputs": [],
   "source": [
    "devices = devices.drop('index').drop('device_gmem_i')"
   ]
  },
  {
   "cell_type": "markdown",
   "id": "d1796693",
   "metadata": {},
   "source": [
    "# Load the user actions table to spark dataframe"
   ]
  },
  {
   "cell_type": "code",
   "execution_count": 9,
   "id": "6c3abf94",
   "metadata": {},
   "outputs": [
    {
     "name": "stderr",
     "output_type": "stream",
     "text": [
      "                                                                                \r"
     ]
    },
    {
     "name": "stdout",
     "output_type": "stream",
     "text": [
      "DataFrame[uid_s: bigint, logins: double, game_stats_tutorial_complete: double, game_stats_tutorial_complete_time: double, game_stats_xp: double, game_stats_xp1: double, game_stats_xp2: double, game_stats_xp3: double, redeemer_actions: double, scribe_actions: double]\n",
      "-RECORD 0-----------------------------------\n",
      " uid_s                             | 0      \n",
      " logins                            | 7.0    \n",
      " game_stats_tutorial_complete      | 1.0    \n",
      " game_stats_tutorial_complete_time | 4.7E8  \n",
      " game_stats_xp                     | 1693.0 \n",
      " game_stats_xp1                    | 592.0  \n",
      " game_stats_xp2                    | 0.0    \n",
      " game_stats_xp3                    | 429.0  \n",
      " redeemer_actions                  | 446.0  \n",
      " scribe_actions                    | 364.0  \n",
      "-RECORD 1-----------------------------------\n",
      " uid_s                             | 1      \n",
      " logins                            | 2.0    \n",
      " game_stats_tutorial_complete      | 1.0    \n",
      " game_stats_tutorial_complete_time | 6.12E8 \n",
      " game_stats_xp                     | 197.0  \n",
      " game_stats_xp1                    | 197.0  \n",
      " game_stats_xp2                    | 0.0    \n",
      " game_stats_xp3                    | 0.0    \n",
      " redeemer_actions                  | 60.0   \n",
      " scribe_actions                    | 125.0  \n",
      "only showing top 2 rows\n",
      "\n"
     ]
    }
   ],
   "source": [
    "spark = (pyspark.sql.SparkSession.builder\n",
    "        .master(\"local[8]\")\n",
    "        .appName(\"user_action_loader\")\n",
    "        .config(\"spark.driver.memory\", \"15g\")\n",
    "        .getOrCreate())\n",
    "\n",
    "if 'actions' not in locals().keys():\n",
    "    actions = spark.read.parquet(\"./kabam_ds_interview/ka_actions.parquet\")\n",
    "\n",
    "    # Check that there is only one instance per user\n",
    "    assert (actions.select('uid_s').distinct().count() == actions.count())\n",
    "\n",
    "print(actions)\n",
    "actions.show(2, vertical=True)"
   ]
  },
  {
   "cell_type": "code",
   "execution_count": 10,
   "id": "e3a7cde8",
   "metadata": {},
   "outputs": [
    {
     "name": "stderr",
     "output_type": "stream",
     "text": [
      "                                                                                \r"
     ]
    },
    {
     "name": "stdout",
     "output_type": "stream",
     "text": [
      "uid_s: 2845931\n",
      "logins: 199\n",
      "game_stats_tutorial_complete: 3\n",
      "game_stats_tutorial_complete_time: 27948\n",
      "game_stats_xp: 22260\n",
      "game_stats_xp1: 5594\n",
      "game_stats_xp2: 7897\n",
      "game_stats_xp3: 7836\n",
      "redeemer_actions: 3747\n",
      "scribe_actions: 1074\n"
     ]
    }
   ],
   "source": [
    "distinct_action_vals = dict()\n",
    "for col in actions.columns:\n",
    "    distinct_action_vals[col] = actions.groupby(col).count().count()\n",
    "\n",
    "_ = [print(f\"{val}: {cnt}\") for val,cnt in distinct_action_vals.items()]"
   ]
  },
  {
   "cell_type": "markdown",
   "id": "85db782c",
   "metadata": {},
   "source": [
    "# Load users actions table to spark dataframe"
   ]
  },
  {
   "cell_type": "code",
   "execution_count": 11,
   "id": "c2c8f8fb",
   "metadata": {},
   "outputs": [
    {
     "name": "stderr",
     "output_type": "stream",
     "text": [
      "                                                                                \r"
     ]
    },
    {
     "name": "stdout",
     "output_type": "stream",
     "text": [
      "DataFrame[uid_s: int, lang_s: string, geo_s: string, region_s: string, tz_i: int, local_time_join_hour: int, local_time_join_dow: int, total_spend: double]\n",
      "+-----+------+-----+--------+------+--------------------+-------------------+-----------+\n",
      "|uid_s|lang_s|geo_s|region_s|  tz_i|local_time_join_hour|local_time_join_dow|total_spend|\n",
      "+-----+------+-----+--------+------+--------------------+-------------------+-----------+\n",
      "|    0|    EN|   MY|    asia| 28800|                  14|                  3|        0.0|\n",
      "|    1|    ES|   MX|americas|-18000|                  14|                  1|        0.0|\n",
      "|    2| ZH-CN|   CN|    asia| 28800|                   2|                  3|        0.0|\n",
      "|    3| ZH-CN|   CN|    asia| 28800|                   8|                  6|        0.0|\n",
      "|    4|    EN|   IN|    asia| 19800|                  19|                  6|        0.0|\n",
      "|    5|    EN|   ID|    asia| 25200|                  11|                  6|        0.0|\n",
      "|    6|    EN|   IN|    asia| 19800|                  23|                  2|        0.0|\n",
      "|    7| ZH-CN|   CN|    asia| 28800|                  22|                  2|        0.0|\n",
      "|    8| ZH-CN|   CN|    asia| 28800|                  16|                  6|        0.0|\n",
      "|    9|    EN|   IN|    asia| 19800|                   6|                  6|        0.0|\n",
      "+-----+------+-----+--------+------+--------------------+-------------------+-----------+\n",
      "only showing top 10 rows\n",
      "\n"
     ]
    }
   ],
   "source": [
    "if 'users' not in locals().keys():\n",
    "    schema = StructType([\n",
    "        StructField(\"uid_s\", IntegerType()),\n",
    "        StructField(\"lang_s\", StringType()),\n",
    "        StructField(\"geo_s\", StringType()),\n",
    "        StructField(\"region_s\", StringType()),\n",
    "        StructField(\"tz_i\", IntegerType()),\n",
    "        StructField(\"local_time_join_hour\", IntegerType()),\n",
    "        StructField(\"local_time_join_dow\", IntegerType()),\n",
    "        StructField(\"total_spend\", DoubleType()),\n",
    "\n",
    "    ])\n",
    "    users = spark.read.csv(\"./kabam_ds_interview/ka_users.csv\", header=True, schema=schema)\n",
    "\n",
    "    assert (users.select('uid_s').distinct().count() == users.count())\n",
    "\n",
    "print(users)\n",
    "users.show(10)"
   ]
  },
  {
   "cell_type": "code",
   "execution_count": 12,
   "id": "ac20f340",
   "metadata": {},
   "outputs": [
    {
     "name": "stderr",
     "output_type": "stream",
     "text": [
      "[Stage 209:=======>                                                 (1 + 7) / 8]\r"
     ]
    },
    {
     "name": "stdout",
     "output_type": "stream",
     "text": [
      "uid_s: 2845931\n",
      "lang_s: 17\n",
      "geo_s: 229\n",
      "region_s: 6\n",
      "tz_i: 34\n",
      "local_time_join_hour: 24\n",
      "local_time_join_dow: 7\n",
      "total_spend: 79\n"
     ]
    },
    {
     "name": "stderr",
     "output_type": "stream",
     "text": [
      "\r",
      "                                                                                \r"
     ]
    }
   ],
   "source": [
    "distinct_user_vals = dict()\n",
    "for col in users.columns:\n",
    "    distinct_user_vals[col] = users.groupby(col).count().count()\n",
    "\n",
    "_ = [print(f\"{val}: {cnt}\") for val,cnt in distinct_user_vals.items()]"
   ]
  },
  {
   "cell_type": "code",
   "execution_count": 13,
   "id": "216ce707",
   "metadata": {},
   "outputs": [],
   "source": [
    "# users.groupby('region_s').count().show()"
   ]
  },
  {
   "cell_type": "code",
   "execution_count": 14,
   "id": "47fa1622",
   "metadata": {},
   "outputs": [],
   "source": [
    "# users.groupby('geo_s').count().show()"
   ]
  },
  {
   "cell_type": "code",
   "execution_count": 15,
   "id": "58c49ebf",
   "metadata": {},
   "outputs": [],
   "source": [
    "# users.select('total_spend').describe().show()"
   ]
  },
  {
   "cell_type": "code",
   "execution_count": 16,
   "id": "e3c71f05",
   "metadata": {},
   "outputs": [
    {
     "name": "stderr",
     "output_type": "stream",
     "text": [
      "[Stage 220:=======>                                                 (1 + 7) / 8]\r"
     ]
    },
    {
     "name": "stdout",
     "output_type": "stream",
     "text": [
      "Final row count: 2845931\n",
      "\n",
      "Final col count: 28\n",
      "\n",
      "DataFrame[uid_s: int, lang_s: string, geo_s: string, region_s: string, tz_i: int, local_time_join_hour: int, local_time_join_dow: int, total_spend: double, platform_s: string, device_mapped_s: string, device_manufacturer_s: string, device_mem_i: double, device_mem_grouping_i: double, device_gmem_grouping_i: double, device_numcpu_i: double, device_height_i: double, device_gpu_s: string, device_os_s: string, device_model_s: string, logins: double, game_stats_tutorial_complete: double, game_stats_tutorial_complete_time: double, game_stats_xp: double, game_stats_xp1: double, game_stats_xp2: double, game_stats_xp3: double, redeemer_actions: double, scribe_actions: double]\n"
     ]
    },
    {
     "name": "stderr",
     "output_type": "stream",
     "text": [
      "\r",
      "                                                                                \r"
     ]
    }
   ],
   "source": [
    "user_device = users.join(devices, on=['uid_s'], how='left')\n",
    "user_device_action = user_device.join(actions, on=['uid_s'], how='left')\n",
    "\n",
    "print(f\"Final row count: {user_device_action.count()}\\n\")\n",
    "print(f\"Final col count: {len(user_device_action.columns)}\\n\")\n",
    "\n",
    "print(user_device_action)"
   ]
  },
  {
   "cell_type": "markdown",
   "id": "e2ae820f",
   "metadata": {},
   "source": [
    "### Binarize the total spend and create label (0,1) for (no money spent, money spent)"
   ]
  },
  {
   "cell_type": "code",
   "execution_count": 108,
   "id": "3143fc23",
   "metadata": {},
   "outputs": [
    {
     "data": {
      "text/plain": [
       "DataFrame[uid_s: int, lang_s: string, geo_s: string, region_s: string, tz_i: int, local_time_join_hour: int, local_time_join_dow: int, platform_s: string, device_mapped_s: string, device_manufacturer_s: string, device_mem_i: double, device_mem_grouping_i: double, device_gmem_grouping_i: double, device_numcpu_i: double, device_height_i: double, device_gpu_s: string, device_os_s: string, device_model_s: string, label: double]"
      ]
     },
     "execution_count": 108,
     "metadata": {},
     "output_type": "execute_result"
    }
   ],
   "source": [
    "binarizer = Binarizer(threshold=0.0, inputCol=\"total_spend\", outputCol=\"label\")\n",
    "binarizedDF = binarizer.transform(user_device)\n",
    "binarizedDF = binarizedDF.drop(\"total_spend\")\n",
    "\n",
    "binarizedDF"
   ]
  },
  {
   "cell_type": "code",
   "execution_count": 109,
   "id": "28c2734b",
   "metadata": {},
   "outputs": [],
   "source": [
    "### CHECK THE EFFECT OF DROPPING ROWS WITH ANY NULL\n",
    "\n",
    "# binarizedDF.where(binarizedDF.label==1).select(\n",
    "#     [count(when(isnan(c) | py_col(c).isNull(), c)).alias(c) for c in binarizedDF.columns]).show(vertical=True)"
   ]
  },
  {
   "cell_type": "code",
   "execution_count": 110,
   "id": "da305dc7",
   "metadata": {},
   "outputs": [],
   "source": [
    "# if the counts are small drop every row that has a null value\n",
    "binarizedDF = binarizedDF.dropna(\"any\")\n",
    "\n",
    "\n",
    "all_distinct_vals = dict()\n",
    "all_distinct_vals.update(distinct_user_vals)\n",
    "all_distinct_vals.update(distinct_action_vals)\n",
    "all_distinct_vals.update(distinct_device_vals)\n",
    "\n",
    "col_to_drop = []\n",
    "\n",
    "for i,col in enumerate(binarizedDF.columns):\n",
    "    if binarizedDF.dtypes[i][1]=='string' and all_distinct_vals[col] > 1000:\n",
    "        col_to_drop.append(col)\n",
    "\n",
    "for col in col_to_drop:\n",
    "    binarizedDF = binarizedDF.drop(col)"
   ]
  },
  {
   "cell_type": "code",
   "execution_count": 111,
   "id": "2134808f",
   "metadata": {},
   "outputs": [
    {
     "name": "stdout",
     "output_type": "stream",
     "text": [
      "The following columns will be string indexed\n",
      "['lang_s', 'geo_s', 'region_s', 'platform_s', 'device_gpu_s']\n"
     ]
    },
    {
     "name": "stderr",
     "output_type": "stream",
     "text": [
      "                                                                                \r"
     ]
    },
    {
     "data": {
      "text/plain": [
       "DataFrame[uid_s: int, lang_s: string, geo_s: string, region_s: string, tz_i: int, local_time_join_hour: int, local_time_join_dow: int, platform_s: string, device_mem_i: double, device_mem_grouping_i: double, device_gmem_grouping_i: double, device_numcpu_i: double, device_height_i: double, device_gpu_s: string, label: double, lang_s_idx: double, geo_s_idx: double, region_s_idx: double, platform_s_idx: double, device_gpu_s_idx: double]"
      ]
     },
     "execution_count": 111,
     "metadata": {},
     "output_type": "execute_result"
    }
   ],
   "source": [
    "categ_cols = [col for i,col in enumerate(binarizedDF.columns) if binarizedDF.dtypes[i][1]=='string']\n",
    "categ_indexed = [col+\"_idx\" for col in categ_cols]\n",
    "\n",
    "print(\"The following columns will be string indexed\")\n",
    "print(categ_cols)\n",
    "\n",
    "stringIndexer = StringIndexer(inputCols=categ_cols, outputCols=categ_indexed)\n",
    "indexer_model = stringIndexer.fit(binarizedDF)\n",
    "final_df = indexer_model.transform(binarizedDF)\n",
    "\n",
    "final_df"
   ]
  },
  {
   "cell_type": "code",
   "execution_count": 112,
   "id": "4dea930e",
   "metadata": {},
   "outputs": [
    {
     "name": "stdout",
     "output_type": "stream",
     "text": [
      "Num cols : 14\n",
      "\n",
      "root\n",
      " |-- tz_i: integer (nullable = true)\n",
      " |-- local_time_join_hour: integer (nullable = true)\n",
      " |-- local_time_join_dow: integer (nullable = true)\n",
      " |-- device_mem_i: double (nullable = true)\n",
      " |-- device_mem_grouping_i: double (nullable = true)\n",
      " |-- device_gmem_grouping_i: double (nullable = true)\n",
      " |-- device_numcpu_i: double (nullable = true)\n",
      " |-- device_height_i: double (nullable = true)\n",
      " |-- label: double (nullable = true)\n",
      " |-- lang_s_idx: double (nullable = false)\n",
      " |-- geo_s_idx: double (nullable = false)\n",
      " |-- region_s_idx: double (nullable = false)\n",
      " |-- platform_s_idx: double (nullable = false)\n",
      " |-- device_gpu_s_idx: double (nullable = false)\n",
      "\n"
     ]
    }
   ],
   "source": [
    "other_drops = ['uid_s'] # 'geo_s_idx', \n",
    "\n",
    "for drop_col in categ_cols+other_drops:\n",
    "    final_df = final_df.drop(drop_col)\n",
    "\n",
    "print(f\"Num cols : {len(final_df.columns)}\\n\")\n",
    "final_df.printSchema()"
   ]
  },
  {
   "cell_type": "code",
   "execution_count": 113,
   "id": "66a63dd0",
   "metadata": {},
   "outputs": [
    {
     "name": "stderr",
     "output_type": "stream",
     "text": [
      "[Stage 902:==================================================>      (8 + 1) / 9]\r"
     ]
    },
    {
     "name": "stdout",
     "output_type": "stream",
     "text": [
      "+----------+-------+\n",
      "|lang_s_idx|  count|\n",
      "+----------+-------+\n",
      "|       8.0|  36342|\n",
      "|       0.0|1102184|\n",
      "|       7.0|  37588|\n",
      "|       1.0| 974432|\n",
      "|       4.0|  86239|\n",
      "|      11.0|  17948|\n",
      "|      14.0|  13305|\n",
      "|       3.0| 140008|\n",
      "|       2.0| 262898|\n",
      "|      10.0|  23174|\n",
      "|      13.0|  14320|\n",
      "|       6.0|  40302|\n",
      "|       5.0|  47853|\n",
      "|      15.0|   5262|\n",
      "|       9.0|  27830|\n",
      "|      16.0|    927|\n",
      "|      12.0|  15186|\n",
      "+----------+-------+\n",
      "\n"
     ]
    },
    {
     "name": "stderr",
     "output_type": "stream",
     "text": [
      "\r",
      "                                                                                \r"
     ]
    }
   ],
   "source": [
    "final_df.groupby('lang_s_idx').count().show()"
   ]
  },
  {
   "cell_type": "markdown",
   "id": "2868a786",
   "metadata": {},
   "source": [
    "### Limit cardinality to atmost 20 features per column"
   ]
  },
  {
   "cell_type": "code",
   "execution_count": 114,
   "id": "c6284182",
   "metadata": {},
   "outputs": [
    {
     "name": "stdout",
     "output_type": "stream",
     "text": [
      "root\n",
      " |-- tz_i: integer (nullable = true)\n",
      " |-- local_time_join_hour: integer (nullable = true)\n",
      " |-- local_time_join_dow: integer (nullable = true)\n",
      " |-- device_mem_i: double (nullable = true)\n",
      " |-- device_mem_grouping_i: double (nullable = true)\n",
      " |-- device_gmem_grouping_i: double (nullable = true)\n",
      " |-- device_numcpu_i: double (nullable = true)\n",
      " |-- device_height_i: double (nullable = true)\n",
      " |-- label: double (nullable = true)\n",
      " |-- lang_s_idx: double (nullable = false)\n",
      " |-- geo_s_idx: double (nullable = false)\n",
      " |-- region_s_idx: double (nullable = false)\n",
      " |-- platform_s_idx: double (nullable = false)\n",
      " |-- device_gpu_s_idx: double (nullable = false)\n",
      "\n"
     ]
    }
   ],
   "source": [
    "MAX_CAT = 20\n",
    "\n",
    "for col in categ_indexed:\n",
    "    final_df = final_df.withColumn(col,\n",
    "                                   when(py_col(col).cast(IntegerType())<MAX_CAT, py_col(col))\n",
    "                                   .otherwise(MAX_CAT))\n",
    "final_df.printSchema()"
   ]
  },
  {
   "cell_type": "code",
   "execution_count": 117,
   "id": "e86cf4c7",
   "metadata": {},
   "outputs": [
    {
     "data": {
      "text/plain": [
       "OneHotEncoder_68960cf8a782"
      ]
     },
     "execution_count": 117,
     "metadata": {},
     "output_type": "execute_result"
    }
   ],
   "source": [
    "# Do one-hot-encoding of categorical variables\n",
    "cat_one_hot_in = [col for col in categ_indexed if  col in final_df.columns]\n",
    "cat_one_hot_out = [col+'_hot' for col in cat_one_hot_in]\n",
    "\n",
    "ohe = OneHotEncoder()\n",
    "ohe.setInputCols(cat_one_hot_in)\n",
    "ohe.setOutputCols(cat_one_hot_out)"
   ]
  },
  {
   "cell_type": "code",
   "execution_count": 118,
   "id": "fa32e9ee",
   "metadata": {},
   "outputs": [
    {
     "name": "stderr",
     "output_type": "stream",
     "text": [
      "                                                                                \r"
     ]
    },
    {
     "name": "stdout",
     "output_type": "stream",
     "text": [
      "root\n",
      " |-- tz_i: integer (nullable = true)\n",
      " |-- local_time_join_hour: integer (nullable = true)\n",
      " |-- local_time_join_dow: integer (nullable = true)\n",
      " |-- device_mem_i: double (nullable = true)\n",
      " |-- device_mem_grouping_i: double (nullable = true)\n",
      " |-- device_gmem_grouping_i: double (nullable = true)\n",
      " |-- device_numcpu_i: double (nullable = true)\n",
      " |-- device_height_i: double (nullable = true)\n",
      " |-- label: double (nullable = true)\n",
      " |-- lang_s_idx_hot: vector (nullable = true)\n",
      " |-- geo_s_idx_hot: vector (nullable = true)\n",
      " |-- region_s_idx_hot: vector (nullable = true)\n",
      " |-- platform_s_idx_hot: vector (nullable = true)\n",
      " |-- device_gpu_s_idx_hot: vector (nullable = true)\n",
      "\n"
     ]
    }
   ],
   "source": [
    "ohe_model = ohe.fit(final_df)\n",
    "\n",
    "final_df_2 = ohe_model.transform(final_df)\n",
    "\n",
    "for col in cat_one_hot_in:\n",
    "    final_df_2 = final_df_2.drop(col)\n",
    "\n",
    "final_df_2.printSchema()"
   ]
  },
  {
   "cell_type": "code",
   "execution_count": 119,
   "id": "a13ae5d8",
   "metadata": {},
   "outputs": [
    {
     "name": "stderr",
     "output_type": "stream",
     "text": [
      "[Stage 932:>                                                        (0 + 1) / 1]\r"
     ]
    },
    {
     "name": "stdout",
     "output_type": "stream",
     "text": [
      "-RECORD 0--------------------------------\n",
      " tz_i                   | 28800          \n",
      " local_time_join_hour   | 7              \n",
      " local_time_join_dow    | 6              \n",
      " device_mem_i           | 5724.0         \n",
      " device_mem_grouping_i  | 5760.0         \n",
      " device_gmem_grouping_i | 2048.0         \n",
      " device_numcpu_i        | 8.0            \n",
      " device_height_i        | 1080.0         \n",
      " label                  | 0.0            \n",
      " lang_s_idx_hot         | (16,[1],[1.0]) \n",
      " geo_s_idx_hot          | (20,[0],[1.0]) \n",
      " region_s_idx_hot       | (5,[0],[1.0])  \n",
      " platform_s_idx_hot     | (1,[0],[1.0])  \n",
      " device_gpu_s_idx_hot   | (20,[],[])     \n",
      "only showing top 1 row\n",
      "\n"
     ]
    },
    {
     "name": "stderr",
     "output_type": "stream",
     "text": [
      "\r",
      "                                                                                \r"
     ]
    }
   ],
   "source": [
    "final_df_2.show(1, vertical=True)"
   ]
  },
  {
   "cell_type": "code",
   "execution_count": 120,
   "id": "14b18dd7",
   "metadata": {},
   "outputs": [
    {
     "name": "stdout",
     "output_type": "stream",
     "text": [
      "root\n",
      " |-- tz_i: integer (nullable = true)\n",
      " |-- local_time_join_hour: integer (nullable = true)\n",
      " |-- local_time_join_dow: integer (nullable = true)\n",
      " |-- device_mem_i: double (nullable = true)\n",
      " |-- device_mem_grouping_i: double (nullable = true)\n",
      " |-- device_gmem_grouping_i: double (nullable = true)\n",
      " |-- device_numcpu_i: double (nullable = true)\n",
      " |-- device_height_i: double (nullable = true)\n",
      " |-- label: double (nullable = true)\n",
      " |-- lang_s_idx_hot: vector (nullable = true)\n",
      " |-- geo_s_idx_hot: vector (nullable = true)\n",
      " |-- region_s_idx_hot: vector (nullable = true)\n",
      " |-- platform_s_idx_hot: vector (nullable = true)\n",
      " |-- device_gpu_s_idx_hot: vector (nullable = true)\n",
      " |-- features: vector (nullable = true)\n",
      "\n"
     ]
    }
   ],
   "source": [
    "assembler = VectorAssembler(inputCols = final_df_2.drop('label').columns, outputCol = \"features\")\n",
    "assembled = assembler.transform(final_df_2)\n",
    "\n",
    "assembled.printSchema()"
   ]
  },
  {
   "cell_type": "code",
   "execution_count": 121,
   "id": "7a08b83a",
   "metadata": {},
   "outputs": [],
   "source": [
    "# selector = UnivariateFeatureSelector(outputCol=\"selectedFeatures\")\n",
    "# selector.setFeatureType(\"categorical\").setLabelType(\"categorical\").setSelectionThreshold(5)\n",
    "\n",
    "# model = selector.fit(assembled)\n",
    "\n",
    "# model.setFeaturesCol(\"features\")\n",
    "# model.transform(assembled.drop('label')).head().selectedFeatures\n",
    "\n",
    "# top_features = [assembled.drop('label').columns[i] for i in model.selectedFeatures]\n",
    "# print(top_features)"
   ]
  },
  {
   "cell_type": "markdown",
   "id": "7f4182e6",
   "metadata": {},
   "source": [
    "## Split dataset then fix imbalance in training data"
   ]
  },
  {
   "cell_type": "markdown",
   "id": "59ed4cf5",
   "metadata": {},
   "source": [
    "# Run model multiple times"
   ]
  },
  {
   "cell_type": "code",
   "execution_count": 122,
   "id": "3739cfbb",
   "metadata": {},
   "outputs": [
    {
     "name": "stderr",
     "output_type": "stream",
     "text": [
      "                                                                                \r"
     ]
    }
   ],
   "source": [
    "# test training a classifier with the special variables\n",
    "# IF THIS TRAINS FINE THEN WE CAN DO OPTIMIZATION ON GOOGLE COLAB WITH SOME HINTS ABOUT THE TOP FEATURES\n",
    "\n",
    "### WOOOOHOOOOOO\n",
    "features_value = defaultdict(int)\n",
    "majority_df = assembled.filter(assembled.label == 0)\n",
    "minority_df = assembled.filter(assembled.label == 1)\n",
    "\n",
    "train_majority, test_majority = majority_df.randomSplit([0.7, 0.3], seed=0)\n",
    "train_minority, test_minority = minority_df.randomSplit([0.7, 0.3], seed=0)\n",
    "    \n",
    "\n",
    "for j in range(5):\n",
    "\n",
    "    train_majority_resampled = train_majority.sampleBy('region_s_idx', \n",
    "                                                       fractions={i:1/80 for i in range(5)}, \n",
    "                                                       seed=j)\n",
    "\n",
    "    train_balanced = train_majority_resampled.unionAll(train_minority)\n",
    "    test_data = test_majority.unionAll(test_minority)\n",
    "    \n",
    "    #### train the classifier\n",
    "    tree_class = DecisionTreeClassifier(maxDepth=10, labelCol=\"label\", leafCol=\"leafId\")\n",
    "    trained_model = tree_class.fit(train_balanced.select('features','label'))\n",
    "    \n",
    "    #### get important features\n",
    "    important_features = trained_model.featureImportances\n",
    "    \n",
    "    #### get the features and their 'probability'\n",
    "    tree_priority = []\n",
    "    ml_attrs = train_balanced.schema[\"features\"].metadata[\"ml_attr\"]['attrs']\n",
    "    \n",
    "    for i,prob in enumerate(important_features):\n",
    "        if prob > 0:\n",
    "            if i<len(ml_attrs['numeric']):\n",
    "                feat_name = ml_attrs['numeric'][i]['name']\n",
    "            else:\n",
    "                feat_name = ml_attrs['binary'][i-9]['name'].split('_')\n",
    "                feat_name.pop(-2)\n",
    "                feat_name.pop(-2)\n",
    "                feat_name = \"_\".join(feat_name[:-1])+'-'+feat_name[-1]\n",
    "\n",
    "            tree_priority.append((feat_name, prob))\n",
    "    tree_priority_top = sorted(tree_priority,reverse=True, key = lambda x: x[1])[:20]\n",
    "    \n",
    "    for name, prob in tree_priority_top:\n",
    "        features_value[name] += prob\n",
    "    \n",
    "#     _ = [print(f\"{name:<50}:\\t {value}\") for name,value in features_value.items()]"
   ]
  },
  {
   "cell_type": "code",
   "execution_count": 123,
   "id": "c9340b2a",
   "metadata": {},
   "outputs": [
    {
     "data": {
      "text/plain": [
       "[('device_mem_i', 1.6381430782209878),\n",
       " ('device_mem_grouping_i', 0.7439009811481532),\n",
       " ('device_height_i', 0.5488903461817414),\n",
       " ('geo_s-0', 0.35381082784564005),\n",
       " ('geo_s-2', 0.33390385401906736),\n",
       " ('region_s-4', 0.23946420983558714),\n",
       " ('device_gpu_s-10', 0.1653793549517169),\n",
       " ('tz_i', 0.11281221306624552),\n",
       " ('local_time_join_hour', 0.11197328254905867),\n",
       " ('device_numcpu_i', 0.10516907851510561),\n",
       " ('lang_s-0', 0.08120988968348632),\n",
       " ('device_gpu_s-19', 0.07576327788001991),\n",
       " ('local_time_join_dow', 0.05491510673026745),\n",
       " ('device_gpu_s-15', 0.05377296819893875),\n",
       " ('device_gpu_s-5', 0.05243858243050764),\n",
       " ('device_gmem_grouping_i', 0.0481596486939322),\n",
       " ('geo_s-6', 0.04640687720766604),\n",
       " ('region_s-1', 0.03220646640774611),\n",
       " ('geo_s-19', 0.028401748724208496),\n",
       " ('geo_s-13', 0.019822783659356878)]"
      ]
     },
     "execution_count": 123,
     "metadata": {},
     "output_type": "execute_result"
    }
   ],
   "source": [
    "top_features = sorted([(x,y) for x,y in features_value.items()],reverse=True, key=lambda x: x[1])[:20]\n",
    "top_features"
   ]
  },
  {
   "cell_type": "code",
   "execution_count": 144,
   "id": "f9f7cd44",
   "metadata": {},
   "outputs": [
    {
     "name": "stdout",
     "output_type": "stream",
     "text": [
      "device_mem_i:\n",
      "\tall\n",
      "device_mem_grouping_i:\n",
      "\tall\n",
      "device_height_i:\n",
      "\tall\n",
      "geo_s:\n",
      "\tCN(0)\n",
      "\tBR(2)\n",
      "\tTR(6)\n",
      "\tTH(19)\n",
      "\tAR(13)\n",
      "region_s:\n",
      "\toceania(4)\n",
      "\tamericas(1)\n",
      "device_gpu_s:\n",
      "\tmali-g71(10)\n",
      "\tadreno (tm) 630(19)\n",
      "\tapple a12 gpu(15)\n",
      "\tapple a10 gpu(5)\n",
      "tz_i:\n",
      "\tall\n",
      "local_time_join_hour:\n",
      "\tall\n",
      "device_numcpu_i:\n",
      "\tall\n",
      "lang_s:\n",
      "\tEN(0)\n",
      "local_time_join_dow:\n",
      "\tall\n",
      "device_gmem_grouping_i:\n",
      "\tall\n"
     ]
    }
   ],
   "source": [
    "cat_interest = defaultdict(list)\n",
    "\n",
    "for val,_ in top_features:\n",
    "    split_ls = val.split('-')\n",
    "    if len(split_ls)==1:\n",
    "        cat_interest[val].append('all')\n",
    "    else:\n",
    "        cat_name = indexer_model.labelsArray[\n",
    "            indexer_model.getInputCols().index(split_ls[0])\n",
    "        ][int(split_ls[-1])]\n",
    "        \n",
    "        cat_interest[split_ls[0]].append(cat_name+'('+split_ls[-1]+')')\n",
    "#         cat_interest[split_ls[0]].append(\"-\".join(split_ls[1:]))\n",
    "        \n",
    "for key,val in cat_interest.items():\n",
    "    print(f\"{key}:\")\n",
    "    _ = [print(f\"\\t{val_item}\") for val_item in val]"
   ]
  },
  {
   "cell_type": "code",
   "execution_count": 126,
   "id": "9c3d994c",
   "metadata": {},
   "outputs": [],
   "source": [
    "# train_balanced.schema[\"features\"].metadata[\"ml_attr\"]['attrs']"
   ]
  },
  {
   "cell_type": "code",
   "execution_count": 33,
   "id": "8e3c1dca",
   "metadata": {},
   "outputs": [],
   "source": [
    "preds = trained_model.transform(test_data)"
   ]
  },
  {
   "cell_type": "code",
   "execution_count": 34,
   "id": "48a51416",
   "metadata": {},
   "outputs": [
    {
     "name": "stderr",
     "output_type": "stream",
     "text": [
      "22/01/09 10:44:21 WARN package: Truncated the string representation of a plan since it was too large. This behavior can be adjusted by setting 'spark.sql.debug.maxToStringFields'.\n",
      "                                                                                \r"
     ]
    }
   ],
   "source": [
    "results = preds.select(['probability', 'label'])\n",
    " \n",
    "## prepare score-label set\n",
    "results_collect = results.collect()\n",
    "results_list = [(float(i[0][0]), 1.0-float(i[1])) for i in results_collect]"
   ]
  },
  {
   "cell_type": "code",
   "execution_count": 35,
   "id": "67a70f8d",
   "metadata": {},
   "outputs": [
    {
     "data": {
      "image/png": "[encoded data removed]",
      "text/plain": [
       "<Figure size 432x288 with 1 Axes>"
      ]
     },
     "metadata": {
      "needs_background": "light"
     },
     "output_type": "display_data"
    }
   ],
   "source": [
    "fpr = dict()\n",
    "tpr = dict()\n",
    "roc_auc = dict()\n",
    " \n",
    "y_test = [i[1] for i in results_list]\n",
    "y_score = [i[0] for i in results_list]\n",
    " \n",
    "fpr, tpr, _ = roc_curve(y_test, y_score)\n",
    "roc_auc = auc(fpr, tpr)\n",
    " \n",
    "%matplotlib inline\n",
    "plt.figure()\n",
    "plt.plot(fpr, tpr, label='ROC curve (area = %0.2f)' % roc_auc)\n",
    "plt.plot([0, 1], [0, 1], 'k--')\n",
    "plt.xlim([0.0, 1.0])\n",
    "plt.ylim([0.0, 1.05])\n",
    "plt.xlabel('False Positive Rate')\n",
    "plt.ylabel('True Positive Rate')\n",
    "plt.title('Receiver operating characteristic Graph')\n",
    "plt.legend(loc=\"lower right\")\n",
    "plt.show()"
   ]
  },
  {
   "cell_type": "code",
   "execution_count": 36,
   "id": "32efbc2f",
   "metadata": {},
   "outputs": [
    {
     "name": "stdout",
     "output_type": "stream",
     "text": [
      "265667 579306 6946 2876\n"
     ]
    }
   ],
   "source": [
    "tn, fp, fn, tp = confusion_matrix([1-x for x in y_test], [int(x<0.5) for x in y_score]).ravel()\n",
    "\n",
    "print(tn, fp, fn, tp)"
   ]
  },
  {
   "cell_type": "code",
   "execution_count": null,
   "id": "82e73463",
   "metadata": {},
   "outputs": [],
   "source": [
    "# TQDM DURING LOOPS"
   ]
  },
  {
   "cell_type": "code",
   "execution_count": 48,
   "id": "d2e0800b",
   "metadata": {},
   "outputs": [
    {
     "name": "stderr",
     "output_type": "stream",
     "text": [
      "                                                                                \r"
     ]
    },
    {
     "data": {
      "image/png": "[encoded data removed]",
      "text/plain": [
       "<Figure size 432x288 with 1 Axes>"
      ]
     },
     "metadata": {
      "needs_background": "light"
     },
     "output_type": "display_data"
    }
   ],
   "source": [
    "train_preds = trained_model.transform(train_balanced)\n",
    "\n",
    "results = train_preds.select(['probability', 'label'])\n",
    " \n",
    "## prepare score-label set\n",
    "results_collect = results.collect()\n",
    "results_list = [(float(i[0][0]), 1.0-float(i[1])) for i in results_collect]\n",
    "\n",
    "\n",
    "fpr = dict()\n",
    "tpr = dict()\n",
    "roc_auc = dict()\n",
    " \n",
    "y_test = [i[1] for i in results_list]\n",
    "y_score = [i[0] for i in results_list]\n",
    " \n",
    "fpr, tpr, _ = roc_curve(y_test, y_score)\n",
    "roc_auc = auc(fpr, tpr)\n",
    " \n",
    "%matplotlib inline\n",
    "plt.figure()\n",
    "plt.plot(fpr, tpr, label='ROC curve (area = %0.2f)' % roc_auc)\n",
    "plt.plot([0, 1], [0, 1], 'k--')\n",
    "plt.xlim([0.0, 1.0])\n",
    "plt.ylim([0.0, 1.05])\n",
    "plt.xlabel('False Positive Rate')\n",
    "plt.ylabel('True Positive Rate')\n",
    "plt.title('Receiver operating characteristic Graph')\n",
    "plt.legend(loc=\"lower right\")\n",
    "plt.show()\n"
   ]
  },
  {
   "cell_type": "code",
   "execution_count": 52,
   "id": "be14ac07",
   "metadata": {},
   "outputs": [
    {
     "name": "stdout",
     "output_type": "stream",
     "text": [
      "17406 7325 6357 16216\n"
     ]
    }
   ],
   "source": [
    "tn, fp, fn, tp = confusion_matrix([1-x for x in y_test], [int(x<0.5) for x in y_score]).ravel()\n",
    "\n",
    "print(tn, fp, fn, tp)"
   ]
  },
  {
   "cell_type": "code",
   "execution_count": 61,
   "id": "a227fa8b",
   "metadata": {},
   "outputs": [
    {
     "name": "stderr",
     "output_type": "stream",
     "text": [
      "[Stage 796:==============>                                          (2 + 6) / 8]\r"
     ]
    },
    {
     "name": "stdout",
     "output_type": "stream",
     "text": [
      "+-----+-------+\n",
      "|geo_s|  count|\n",
      "+-----+-------+\n",
      "|   CN|1000539|\n",
      "|   US| 300305|\n",
      "|   BR| 193474|\n",
      "|   IN| 163937|\n",
      "|   MX| 157119|\n",
      "|   RU|  82123|\n",
      "|   TR|  64523|\n",
      "|   GB|  60750|\n",
      "|   IT|  48469|\n",
      "|   FR|  45100|\n",
      "+-----+-------+\n",
      "only showing top 10 rows\n",
      "\n"
     ]
    },
    {
     "name": "stderr",
     "output_type": "stream",
     "text": [
      "\r",
      "                                                                                \r"
     ]
    }
   ],
   "source": [
    "users.groupby('geo_s').count().sort('count',ascending=False).show(10)"
   ]
  },
  {
   "cell_type": "code",
   "execution_count": 67,
   "id": "a2ea3c91",
   "metadata": {},
   "outputs": [
    {
     "data": {
      "text/plain": [
       "['CN', 'BR', 'TR']"
      ]
     },
     "execution_count": 67,
     "metadata": {},
     "output_type": "execute_result"
    }
   ],
   "source": [
    "cat_interest['geo_s']"
   ]
  },
  {
   "cell_type": "code",
   "execution_count": 88,
   "id": "666232b1",
   "metadata": {},
   "outputs": [
    {
     "name": "stdout",
     "output_type": "stream",
     "text": [
      "root\n",
      " |-- device_mem_i: double (nullable = true)\n",
      " |-- device_mem_grouping_i: double (nullable = true)\n",
      " |-- device_height_i: double (nullable = true)\n",
      " |-- geo_s: string (nullable = true)\n",
      " |-- region_s: string (nullable = true)\n",
      " |-- device_gpu_s: string (nullable = true)\n",
      " |-- local_time_join_hour: integer (nullable = true)\n",
      " |-- device_numcpu_i: double (nullable = true)\n",
      " |-- tz_i: integer (nullable = true)\n",
      " |-- lang_s: string (nullable = true)\n",
      " |-- local_time_join_dow: integer (nullable = true)\n",
      " |-- device_gmem_grouping_i: double (nullable = true)\n",
      "\n",
      "root\n",
      " |-- device_mem_i: double (nullable = true)\n",
      " |-- device_mem_grouping_i: double (nullable = true)\n",
      " |-- device_height_i: double (nullable = true)\n",
      " |-- local_time_join_hour: integer (nullable = true)\n",
      " |-- device_numcpu_i: double (nullable = true)\n",
      " |-- tz_i: integer (nullable = true)\n",
      " |-- local_time_join_dow: integer (nullable = true)\n",
      " |-- device_gmem_grouping_i: double (nullable = true)\n",
      " |-- new_geo_s: string (nullable = true)\n",
      " |-- new_region_s: string (nullable = true)\n",
      " |-- new_device_gpu_s: string (nullable = true)\n",
      " |-- new_lang_s: string (nullable = true)\n",
      "\n"
     ]
    }
   ],
   "source": [
    "filtered_df = binarizedDF.select([best_feats for best_feats in cat_interest.keys()])\n",
    "\n",
    "filtered_df.printSchema()\n",
    "\n",
    "for key, val in cat_interest.items():\n",
    "    if val[0] != 'all':\n",
    "        filtered_df = filtered_df.withColumn(\"new_\"+key,\n",
    "                                 when(py_col(key).isin(cat_interest[key]),\n",
    "                                      py_col(key))\n",
    "                                 .otherwise(\"other\")).drop(key)\n",
    "filtered_df.printSchema()"
   ]
  },
  {
   "cell_type": "code",
   "execution_count": 94,
   "id": "da6434c0",
   "metadata": {},
   "outputs": [
    {
     "name": "stderr",
     "output_type": "stream",
     "text": [
      " 75%|███████████████████████████████▌          | 9/12 [00:44<00:14,  4.96s/it]  "
     ]
    },
    {
     "name": "stdout",
     "output_type": "stream",
     "text": [
      "+---------+-------+\n",
      "|new_geo_s|  count|\n",
      "+---------+-------+\n",
      "|    other|1587264|\n",
      "|       CN|1000537|\n",
      "|       BR| 193474|\n",
      "|       TR|  64523|\n",
      "+---------+-------+\n",
      "\n"
     ]
    },
    {
     "name": "stderr",
     "output_type": "stream",
     "text": [
      " 83%|██████████████████████████████████▏      | 10/12 [01:31<00:21, 10.75s/it]  "
     ]
    },
    {
     "name": "stdout",
     "output_type": "stream",
     "text": [
      "+------------+-------+\n",
      "|new_region_s|  count|\n",
      "+------------+-------+\n",
      "|       other|2821584|\n",
      "|     oceania|  24214|\n",
      "+------------+-------+\n",
      "\n"
     ]
    },
    {
     "name": "stderr",
     "output_type": "stream",
     "text": [
      " 92%|█████████████████████████████████████▌   | 11/12 [02:13<00:15, 15.81s/it]  "
     ]
    },
    {
     "name": "stdout",
     "output_type": "stream",
     "text": [
      "+--------------------+-------+\n",
      "|    new_device_gpu_s|  count|\n",
      "+--------------------+-------+\n",
      "|               other|2378150|\n",
      "|       apple a10 gpu| 132242|\n",
      "|            mali-g71| 110412|\n",
      "|     adreno (tm) 306|  94179|\n",
      "|       apple a12 gpu|  65100|\n",
      "|            mali-g72|  55886|\n",
      "|     powervr sgx 554|   9828|\n",
      "|tencent gles (gef...|      1|\n",
      "+--------------------+-------+\n",
      "\n"
     ]
    },
    {
     "name": "stderr",
     "output_type": "stream",
     "text": [
      "100%|█████████████████████████████████████████| 12/12 [02:53<00:00, 14.49s/it]  "
     ]
    },
    {
     "name": "stdout",
     "output_type": "stream",
     "text": [
      "+----------+-------+\n",
      "|new_lang_s|  count|\n",
      "+----------+-------+\n",
      "|     other|1743614|\n",
      "|        EN|1102184|\n",
      "+----------+-------+\n",
      "\n"
     ]
    },
    {
     "name": "stderr",
     "output_type": "stream",
     "text": [
      "\n"
     ]
    }
   ],
   "source": [
    "for cols in filtered_df.columns:\n",
    "    if cols.startswith('new'):\n",
    "        filtered_df.groupby(cols).count().sort('count',ascending=False).show(10)"
   ]
  },
  {
   "cell_type": "code",
   "execution_count": 146,
   "id": "d9305c23",
   "metadata": {},
   "outputs": [
    {
     "data": {
      "text/plain": [
       "['geo_s',\n",
       " 'device_os_s',\n",
       " 'device_gpu_s',\n",
       " 'device_manufacturer_s',\n",
       " 'local_time_join_hour',\n",
       " 'lang_s',\n",
       " 'local_time_join_dow',\n",
       " 'device_numcpu_i',\n",
       " 'platform_s',\n",
       " 'region_s',\n",
       " 'device_gmem_grouping_i',\n",
       " 'device_height_i',\n",
       " 'total_spend',\n",
       " 'device_mapped_s',\n",
       " 'device_model_s',\n",
       " 'device_mem_i',\n",
       " 'device_mem_grouping_i',\n",
       " 'tz_i',\n",
       " 'uid_s']"
      ]
     },
     "execution_count": 146,
     "metadata": {},
     "output_type": "execute_result"
    }
   ],
   "source": [
    "list(set(user_device.columns) & set(user_device_action.columns))"
   ]
  }
 ],
 "metadata": {
  "kernelspec": {
   "display_name": "Python 3 (ipykernel)",
   "language": "python",
   "name": "python3"
  },
  "language_info": {
   "codemirror_mode": {
    "name": "ipython",
    "version": 3
   },
   "file_extension": ".py",
   "mimetype": "text/x-python",
   "name": "python",
   "nbconvert_exporter": "python",
   "pygments_lexer": "ipython3",
   "version": "3.9.9"
  }
 },
 "nbformat": 4,
 "nbformat_minor": 5
}
